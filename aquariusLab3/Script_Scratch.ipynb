{
 "cells": [
  {
   "cell_type": "code",
   "execution_count": 1,
   "metadata": {
    "collapsed": false
   },
   "outputs": [
    {
     "name": "stdout",
     "output_type": "stream",
     "text": [
      "Populating the interactive namespace from numpy and matplotlib\n"
     ]
    }
   ],
   "source": [
    "import numpy as np\n",
    "import astropy as ap\n",
    "from astropy import units as u\n",
    "import matplotlib.pyplot as plt\n",
    "import ugradio\n",
    "import time\n",
    "\n",
    "%pylab inline"
   ]
  },
  {
   "cell_type": "markdown",
   "metadata": {},
   "source": [
    "### Functions to Use\n",
    "\n",
    "    ifm.stow\n",
    "    ifm.maintenance\n",
    "    ifm.get_pointing where is telescope now\n",
    "    ifm.point(alt,az) where do you want it to point\n",
    "    hpm.read_voltage\n",
    "    hpm.start_recording(dt)\n",
    "    hpm.get_recording_data()\n",
    "    hpm.end_recording()\n",
    "    ugradio.coord.sunpos(jd)\n",
    "    ugradio.coord.moonpos(jd,lat,lon,alt)\n",
    "    ugradio.coord.get_altaz(ra, dec, jd, lat, lon, alt)\n",
    "    ugradio.coord.precess(ra, dec, jd, equinox)"
   ]
  },
  {
   "cell_type": "code",
   "execution_count": 2,
   "metadata": {
    "collapsed": true
   },
   "outputs": [],
   "source": [
    "# ifm = ugradio.interf.Interferometer()\n",
    "# hpm = ugradio.hp_multi.HP_Multimeter()\n"
   ]
  },
  {
   "cell_type": "code",
   "execution_count": 3,
   "metadata": {
    "collapsed": false
   },
   "outputs": [
    {
     "name": "stdout",
     "output_type": "stream",
     "text": [
      "Crab Nebula coordinates are <SkyCoord (ICRS): (ra, dec) in deg\n",
      "    ( 83.633125,  22.01447222)>\n",
      "Orion Nebula coordinates are <SkyCoord (ICRS): (ra, dec) in deg\n",
      "    ( 83.82208333, -5.39111111)>\n",
      "M17 coordinates are <SkyCoord (ICRS): (ra, dec) in deg\n",
      "    ( 275.10833333, -16.17666667)>\n",
      "CygA coordinates are <SkyCoord (ICRS): (ra, dec) in deg\n",
      "    ( 299.86815417,  40.73391667)>\n",
      "Cas A coordinates <SkyCoord (ICRS): (ra, dec) in deg\n",
      "    ( 350.85,  58.815)>\n"
     ]
    }
   ],
   "source": [
    "# Crab Nebula\n",
    "print('Crab Nebula coordinates are {}'.format(ap.coordinates.SkyCoord('05:34:31.95', '+22:00:52.1', unit = (u.hourangle, u.deg))))\n",
    "\n",
    "# Orion Nebula\n",
    "print('Orion Nebula coordinates are {}'.format(ap.coordinates.SkyCoord('05:35:17.3', '-05:23:28', unit = (u.hourangle, u.deg))))\n",
    "\n",
    "# M17\n",
    "print('M17 coordinates are {}'.format(ap.coordinates.SkyCoord('18:20:26', '-16:10.6', unit = (u.hourangle, u.deg))))\n",
    "\n",
    "# Cygnus A \n",
    "print('CygA coordinates are {}'.format(ap.coordinates.SkyCoord('19:59:28.357', '+40:44:02.1', unit = (u.hourangle, u.deg))))\n",
    "\n",
    "# Cas A\n",
    "print('Cas A coordinates {}'.format(ap.coordinates.SkyCoord('23:23:24', '+58:48.9', unit = (u.hourangle, u.deg))))"
   ]
  },
  {
   "cell_type": "code",
   "execution_count": 2,
   "metadata": {
    "collapsed": true
   },
   "outputs": [],
   "source": [
    "def julianDayArray(hrs, dt, initUnixT):\n",
    "    interval = hrs*60./dt\n",
    "    secInt = dt*60.\n",
    "    jds = []\n",
    "    for i in range(int(interval)):\n",
    "        jds.append(ugradio.timing.julian_date(initUnixT + secInt*i))\n",
    "    # actual julian data to put into alt az functions\n",
    "    jds = np.array(jds)\n",
    "    # start from 0 and convert to hours for plot\n",
    "    jdHrs = []\n",
    "    jdHrs = (jds - jds[0])*24\n",
    "    return jds, np.array(jdHrs)"
   ]
  },
  {
   "cell_type": "code",
   "execution_count": 14,
   "metadata": {
    "collapsed": false
   },
   "outputs": [
    {
     "data": {
      "text/plain": [
       "66.0"
      ]
     },
     "execution_count": 14,
     "metadata": {},
     "output_type": "execute_result"
    }
   ],
   "source": [
    "3.3*60/3"
   ]
  },
  {
   "cell_type": "code",
   "execution_count": 18,
   "metadata": {
    "collapsed": false
   },
   "outputs": [],
   "source": [
    "jull, jullHrs = julianDayArray(12, 5, 1520627066.146196)"
   ]
  },
  {
   "cell_type": "code",
   "execution_count": 29,
   "metadata": {
    "collapsed": false
   },
   "outputs": [
    {
     "name": "stdout",
     "output_type": "stream",
     "text": [
      "15.5763609409\n"
     ]
    }
   ],
   "source": [
    "start_t = time.time()\n",
    "aa, zz = findAltAz(350.85,  58.815, jull)\n",
    "print(time.time() - start_t)"
   ]
  },
  {
   "cell_type": "code",
   "execution_count": 15,
   "metadata": {
    "collapsed": true
   },
   "outputs": [],
   "source": [
    "def findAltAz(ra, dec, jd_array):\n",
    "    altArr = []\n",
    "    azArr = []\n",
    "    for j in jd_array:\n",
    "        raP, decP = ugradio.coord.precess(ra, dec, jd = j)\n",
    "        alt, az = ugradio.coord.get_altaz(raP, decP, jd =j)\n",
    "        altArr.append(alt)\n",
    "        azArr.append(az)\n",
    "    return np.array(altArr), np.array(azArr)"
   ]
  },
  {
   "cell_type": "code",
   "execution_count": 8,
   "metadata": {
    "collapsed": false
   },
   "outputs": [],
   "source": [
    "def moonAltAz(jd_array):\n",
    "    altArr = []\n",
    "    azArr = []\n",
    "    for j in jd_array:\n",
    "        raM,decM = ugradio.coord.moonpos(jd = j)\n",
    "        alt, az = ugradio.coord.get_altaz(raM, decM, jd = j)\n",
    "        altArr.append(alt)\n",
    "        azArr.append(az)\n",
    "    return np.array(altArr), np.array(azArr)"
   ]
  },
  {
   "cell_type": "code",
   "execution_count": 9,
   "metadata": {
    "collapsed": true
   },
   "outputs": [],
   "source": [
    "def sunAltAz(jd_array):\n",
    "    altArr = []\n",
    "    azArr = []\n",
    "    for j in jd_array:\n",
    "        raS, decS = ugradio.coord.sunpos(jd = j)\n",
    "        alt, az = ugradio.coord.get_altaz(raS, decS, jd = j)\n",
    "        altArr.append(alt)\n",
    "        azArr.append(az)\n",
    "    return np.array(altArr), np.array(azArr)"
   ]
  },
  {
   "cell_type": "code",
   "execution_count": 10,
   "metadata": {
    "collapsed": true
   },
   "outputs": [],
   "source": [
    "def corrections(altitude, azimuth):\n",
    "    for al, az, i in zip(altitude, azimuth, range(len(altitude))):\n",
    "        if az < 90:\n",
    "            azimuth[i] = az + 180\n",
    "            altitude[i] = abs(180 - altitude[i])\n",
    "        elif az > 300:\n",
    "            azimuth[i] = az - 180\n",
    "            altitude[i] = abs(180 - altitude[i])\n",
    "    return altitude, azimuth"
   ]
  },
  {
   "cell_type": "code",
   "execution_count": 33,
   "metadata": {
    "collapsed": false
   },
   "outputs": [],
   "source": [
    "with open('test.txt', 'w') as pointFile:\n",
    "    pointFile.write('{}\\t{}\\t{}\\t{}\\n'.format('wAlt', 'wAz', \n",
    "                                              'eAlt', 'eAz'))\n",
    "    \n",
    "    for a, z in zip(aa, zz):\n",
    "        pointFile.write('{}\\t{}\\t{}\\t{}\\n'.format(a, a, \n",
    "                                                  z, z))"
   ]
  },
  {
   "cell_type": "code",
   "execution_count": 13,
   "metadata": {
    "collapsed": true
   },
   "outputs": [],
   "source": [
    "def collect_data(ra, dec, hrs, dt, n, dataFile, pointfileName):\n",
    "    with open('{}'.format(pointfileName), 'w') as pointFile:\n",
    "        pointFile.write('{}\\t{}\\t{}\\t{}\\n'.format('westAltitude', 'westAzimuth', 'eastAltitude', 'eastAzimuth'))\n",
    "        \n",
    "        unix = ugradio.timing.unix_time()\n",
    "        jds, jdsHr = julianDayArray(hrs, dt, unix)\n",
    "        alts, azs = findAltAz(ra, dec, jds)\n",
    "        correctAlt, correctAz = corrections(alts, azs)\n",
    "\n",
    "        ct = 0\n",
    "        for al, az in zip(correctAlt, correctAz):\n",
    "            ifm.point(al, az)\n",
    "            get_point = ifm.get_pointing()\n",
    "            valAltAz = get_point.values()\n",
    "            pointFile.write('{}\\t{}\\t{}\\t{}\\n'.format(valAltAz[0][0], valAltAz[0][1], valAltAz[1][0], valAltAz[1][1]))\n",
    "\n",
    "            hpm.start_recording(n)\n",
    "            start_time = time.time()\n",
    "            time.sleep(dt*60)\n",
    "            current_time = time.time()\n",
    "            if current_time - start_time >= dt*60:\n",
    "                volts, times = hpm.end_recording()\n",
    "                np.savez('{}_{}'.format(dataFile, ct), v = volts, tt = times)   \n",
    "                ct += 1"
   ]
  },
  {
   "cell_type": "code",
   "execution_count": 30,
   "metadata": {
    "collapsed": false
   },
   "outputs": [
    {
     "name": "stdout",
     "output_type": "stream",
     "text": [
      "(array([ 32.24666852,  32.60969758]), array([ 37.61786487,  37.78115258]))\n",
      "(array([ 147.75333148,  147.39030242]), array([ 217.61786487,  217.78115258]))\n"
     ]
    }
   ],
   "source": [
    "jdArr, jdHrss = julianDayArray(.1,3,ugradio.timing.unix_time())\n",
    "tAlt, tAz = findAltAz(350.85,  58.815, jdArr)\n",
    "print(tAlt, tAz)\n",
    "cAlt, cAz = corrections(tAlt, tAz)\n",
    "print(cAlt, cAz)"
   ]
  },
  {
   "cell_type": "code",
   "execution_count": 36,
   "metadata": {
    "collapsed": false
   },
   "outputs": [
    {
     "data": {
      "text/plain": [
       "{'ant_e': (147.65625, 217.620605469), 'ant_w': (147.727539062, 217.645703125)}"
      ]
     },
     "execution_count": 36,
     "metadata": {},
     "output_type": "execute_result"
    }
   ],
   "source": [
    "ifm.get_pointing()"
   ]
  },
  {
   "cell_type": "code",
   "execution_count": 23,
   "metadata": {
    "collapsed": false
   },
   "outputs": [],
   "source": [
    "a = np.load('fuck_0.npz')['v']\n",
    "c = np.load('fuck_1.npz')['v']"
   ]
  },
  {
   "cell_type": "code",
   "execution_count": 24,
   "metadata": {
    "collapsed": false
   },
   "outputs": [],
   "source": [
    "b = np.load('fuck_0.npz')['tt']\n",
    "d = np.load('fuck_1.npz')['tt']"
   ]
  },
  {
   "cell_type": "code",
   "execution_count": 25,
   "metadata": {
    "collapsed": false
   },
   "outputs": [
    {
     "data": {
      "text/plain": [
       "[<matplotlib.lines.Line2D at 0x7f6ade45ad90>]"
      ]
     },
     "execution_count": 25,
     "metadata": {},
     "output_type": "execute_result"
    },
    {
     "data": {
      "image/png": "[encoded data removed]",
      "text/plain": [
       "<matplotlib.figure.Figure at 0x7f6ade45aa90>"
      ]
     },
     "metadata": {},
     "output_type": "display_data"
    }
   ],
   "source": [
    "plt.plot(b-1.5e9, a)\n",
    "plt.plot(d-1.5e9, c)\n",
    "# plt.xlim(0,100)"
   ]
  },
  {
   "cell_type": "code",
   "execution_count": null,
   "metadata": {
    "collapsed": false
   },
   "outputs": [],
   "source": [
    "# hpm.get_recording_status()\n",
    "hpm.end_recording()"
   ]
  },
  {
   "cell_type": "code",
   "execution_count": null,
   "metadata": {
    "collapsed": true
   },
   "outputs": [],
   "source": [
    "ugradio.timing.unit_time()"
   ]
  },
  {
   "cell_type": "code",
   "execution_count": null,
   "metadata": {
    "collapsed": false
   },
   "outputs": [],
   "source": [
    "# Julian day times for 24 hours at 15 minute intervals starting March 4th at 3 am\n",
    "jd_times, jd_72hrs = julianDayArray(20, 15, ugradio.timing.unit_time())\n",
    "# jd_moon, jd_24moon = julianDayArray(24, 3, 1520166599.7119844)"
   ]
  },
  {
   "cell_type": "code",
   "execution_count": null,
   "metadata": {
    "collapsed": false
   },
   "outputs": [],
   "source": [
    "# Find Coordinates for Objects of Interest\n",
    "crabAlt, crabAz = findAltAz(83.633125,  22.01447222, jd_times)\n",
    "orionAlt, orionAz = findAltAz(83.82208333, -5.39111111, jd_times)\n",
    "M17Alt, M17Az = findAltAz(275.10833333, -16.17666667, jd_times)\n",
    "CygAlt, CybAz = findAltAz(299.86815417,  40.73391667, jd_times)\n",
    "CasAlt, CasAz = findAltAz(350.85,  58.815, jd_3min)\n",
    "# moonAlt, moonAz = moonAltAz(jd_moon)\n",
    "# sunAlt, sunAz = sunAltAz(jd_moon)"
   ]
  },
  {
   "cell_type": "code",
   "execution_count": null,
   "metadata": {
    "collapsed": false
   },
   "outputs": [],
   "source": [
    "plt.figure(figsize = (10,6))\n",
    "plt.plot(jd_72hrs+3, crabAlt, label = 'crab Nebula')\n",
    "plt.plot(jd_72hrs+3, orionAlt, label = 'Orion')\n",
    "plt.plot(jd_72hrs+3, M17Alt, label = 'M17')\n",
    "plt.plot(jd_72hrs+3, CygAlt, label = 'Cygnus')\n",
    "plt.plot(jd_72hrs+4.5, CasAlt, label = 'Cas')\n",
    "# plt.plot(jd_24moon+3, moonAlt, label = 'Moon', c = 'navy')\n",
    "# plt.plot(jd_24moon+3, sunAlt, 'y', label = 'Sun')\n",
    "plt.ylim(0,100)\n",
    "plt.xlim(3,35)\n",
    "plt.legend(loc = 'lower right')\n",
    "plt.xlabel('PST TIME')\n",
    "plt.ylabel('ALTITUDE')\n",
    "plt.title('March 4th')"
   ]
  },
  {
   "cell_type": "code",
   "execution_count": null,
   "metadata": {
    "collapsed": false
   },
   "outputs": [],
   "source": [
    "with open('{}.txt'.format('test'), 'w') as pointFile: \n",
    "    pointFile.write('{}\\n{}'.format('alt', 'az'))"
   ]
  },
  {
   "cell_type": "code",
   "execution_count": null,
   "metadata": {
    "collapsed": true
   },
   "outputs": [],
   "source": [
    "def collect_moon_now():\n",
    "    start_t = ugradio.timing.unix_time()\n",
    "    moonRA, moonDEC = ugradio.coord.moonpos()\n",
    "    moonALT, moonAZ = ugradio.coord.get_altaz(moonRA, moonDEC)\n",
    "    ifm.point(moonALT, moonAZ)\n",
    "    print('Where am I pointing?', ifm.get_pointing(), 'and where is the moon?', moonALT, moonAZ)\n",
    "    hpm.start_recording(0.2)\n",
    "    \n",
    "    V, t = hpm.get_recording_data()"
   ]
  },
  {
   "cell_type": "code",
   "execution_count": null,
   "metadata": {
    "collapsed": false
   },
   "outputs": [],
   "source": [
    "print(time.time())\n",
    "print(ugradio.timing.unix_time())"
   ]
  },
  {
   "cell_type": "code",
   "execution_count": null,
   "metadata": {
    "collapsed": false
   },
   "outputs": [],
   "source": [
    "moonRA, moonDEC = ugradio.coord.moonpos()\n",
    "moonALT, moonAZ = ugradio.coord.get_altaz(moonRA, moonDEC)"
   ]
  },
  {
   "cell_type": "code",
   "execution_count": null,
   "metadata": {
    "collapsed": false
   },
   "outputs": [],
   "source": [
    "moonALT, moonAZ"
   ]
  },
  {
   "cell_type": "code",
   "execution_count": null,
   "metadata": {
    "collapsed": false
   },
   "outputs": [],
   "source": [
    "ugradio.coord.sunpos()"
   ]
  },
  {
   "cell_type": "code",
   "execution_count": null,
   "metadata": {
    "collapsed": false
   },
   "outputs": [],
   "source": [
    "ifm.get_pointing()"
   ]
  },
  {
   "cell_type": "code",
   "execution_count": null,
   "metadata": {
    "collapsed": false
   },
   "outputs": [],
   "source": [
    "ifm.point(moonALT, moonAZ)"
   ]
  },
  {
   "cell_type": "code",
   "execution_count": null,
   "metadata": {
    "collapsed": false
   },
   "outputs": [],
   "source": [
    "hpm.start_recording(0.3)"
   ]
  },
  {
   "cell_type": "code",
   "execution_count": null,
   "metadata": {
    "collapsed": false
   },
   "outputs": [],
   "source": [
    "901*.15"
   ]
  },
  {
   "cell_type": "code",
   "execution_count": null,
   "metadata": {
    "collapsed": false
   },
   "outputs": [],
   "source": [
    "hpm.get_recording_status()"
   ]
  },
  {
   "cell_type": "code",
   "execution_count": null,
   "metadata": {
    "collapsed": false
   },
   "outputs": [],
   "source": [
    "# hpm.end_recording()"
   ]
  },
  {
   "cell_type": "code",
   "execution_count": null,
   "metadata": {
    "collapsed": true
   },
   "outputs": [],
   "source": [
    "# V_025, t_025 = hpm.get_recording_data()"
   ]
  },
  {
   "cell_type": "code",
   "execution_count": null,
   "metadata": {
    "collapsed": true
   },
   "outputs": [],
   "source": [
    "# V_015, t_015 = hpm.get_recording_data()"
   ]
  },
  {
   "cell_type": "code",
   "execution_count": null,
   "metadata": {
    "collapsed": true
   },
   "outputs": [],
   "source": [
    "# V_005, t_005 = hpm.get_recording_data()"
   ]
  },
  {
   "cell_type": "code",
   "execution_count": null,
   "metadata": {
    "collapsed": true
   },
   "outputs": [],
   "source": [
    "V_01, t_01 = hpm.get_recording_data()"
   ]
  },
  {
   "cell_type": "code",
   "execution_count": null,
   "metadata": {
    "collapsed": true
   },
   "outputs": [],
   "source": [
    "# V_1, t_1 = hpm.get_recording_data()"
   ]
  },
  {
   "cell_type": "code",
   "execution_count": null,
   "metadata": {
    "collapsed": false
   },
   "outputs": [],
   "source": [
    "V_02, t_02 = hpm.get_recording_data()"
   ]
  },
  {
   "cell_type": "code",
   "execution_count": null,
   "metadata": {
    "collapsed": true
   },
   "outputs": [],
   "source": [
    "V_03, t_03 = hpm.get_recording_data()"
   ]
  },
  {
   "cell_type": "code",
   "execution_count": null,
   "metadata": {
    "collapsed": false
   },
   "outputs": [],
   "source": [
    "plt.plot(t_03, V_03)\n",
    "plt.plot()"
   ]
  },
  {
   "cell_type": "code",
   "execution_count": null,
   "metadata": {
    "collapsed": false
   },
   "outputs": [],
   "source": [
    "plt.plot(t_025, V_025)\n",
    "plt.plot()"
   ]
  },
  {
   "cell_type": "code",
   "execution_count": null,
   "metadata": {
    "collapsed": false
   },
   "outputs": [],
   "source": [
    "plt.plot(t_015, V_015)"
   ]
  },
  {
   "cell_type": "code",
   "execution_count": null,
   "metadata": {
    "collapsed": false
   },
   "outputs": [],
   "source": [
    "plt.plot(t_005, V_005)"
   ]
  },
  {
   "cell_type": "code",
   "execution_count": null,
   "metadata": {
    "collapsed": false
   },
   "outputs": [],
   "source": [
    "plt.plot(t_01, V_01)"
   ]
  },
  {
   "cell_type": "code",
   "execution_count": null,
   "metadata": {
    "collapsed": false
   },
   "outputs": [],
   "source": [
    "plt.plot(t_02,V_02)"
   ]
  },
  {
   "cell_type": "code",
   "execution_count": null,
   "metadata": {
    "collapsed": false
   },
   "outputs": [],
   "source": [
    "t_02"
   ]
  },
  {
   "cell_type": "code",
   "execution_count": null,
   "metadata": {
    "collapsed": false
   },
   "outputs": [],
   "source": [
    "plt.plot(t_1, V_1)"
   ]
  }
 ],
 "metadata": {
  "kernelspec": {
   "display_name": "Python 2",
   "language": "python",
   "name": "python2"
  },
  "language_info": {
   "codemirror_mode": {
    "name": "ipython",
    "version": 2
   },
   "file_extension": ".py",
   "mimetype": "text/x-python",
   "name": "python",
   "nbconvert_exporter": "python",
   "pygments_lexer": "ipython2",
   "version": "2.7.6"
  }
 },
 "nbformat": 4,
 "nbformat_minor": 1
}
