{
 "cells": [
  {
   "cell_type": "code",
   "execution_count": 1,
   "metadata": {
    "collapsed": false
   },
   "outputs": [
    {
     "name": "stdout",
     "output_type": "stream",
     "text": [
      "Populating the interactive namespace from numpy and matplotlib\n"
     ]
    }
   ],
   "source": [
    "import numpy as np\n",
    "import astropy as ap\n",
    "from astropy import units as u\n",
    "import matplotlib.pyplot as plt\n",
    "import ugradio\n",
    "import time\n",
    "\n",
    "%pylab inline"
   ]
  },
  {
   "cell_type": "markdown",
   "metadata": {},
   "source": [
    "### Functions to Use\n",
    "\n",
    "    ifm.stow\n",
    "    ifm.maintenance\n",
    "    ifm.get_pointing where is telescope now\n",
    "    ifm.point(alt,az) where do you want it to point\n",
    "    hpm.read_voltage\n",
    "    hpm.start_recording(dt)\n",
    "    hpm.get_recording_data()\n",
    "    hpm.end_recording()\n",
    "    ugradio.coord.sunpos(jd)\n",
    "    ugradio.coord.moonpos(jd,lat,lon,alt)\n",
    "    ugradio.coord.get_altaz(ra, dec, jd, lat, lon, alt)\n",
    "    ugradio.coord.precess(ra, dec, jd, equinox)"
   ]
  },
  {
   "cell_type": "code",
   "execution_count": 2,
   "metadata": {
    "collapsed": true
   },
   "outputs": [],
   "source": [
    "ifm = ugradio.interf.Interferometer()\n",
    "hpm = ugradio.hp_multi.HP_Multimeter()\n"
   ]
  },
  {
   "cell_type": "code",
   "execution_count": 3,
   "metadata": {
    "collapsed": false
   },
   "outputs": [
    {
     "name": "stdout",
     "output_type": "stream",
     "text": [
      "Crab Nebula coordinates are <SkyCoord (ICRS): (ra, dec) in deg\n",
      "    ( 83.633125,  22.01447222)>\n",
      "Orion Nebula coordinates are <SkyCoord (ICRS): (ra, dec) in deg\n",
      "    ( 83.82208333, -5.39111111)>\n",
      "M17 coordinates are <SkyCoord (ICRS): (ra, dec) in deg\n",
      "    ( 275.10833333, -16.17666667)>\n",
      "CygA coordinates are <SkyCoord (ICRS): (ra, dec) in deg\n",
      "    ( 299.86815417,  40.73391667)>\n",
      "Cas A coordinates <SkyCoord (ICRS): (ra, dec) in deg\n",
      "    ( 350.85,  58.815)>\n"
     ]
    }
   ],
   "source": [
    "# Crab Nebula\n",
    "print('Crab Nebula coordinates are {}'.format(ap.coordinates.SkyCoord('05:34:31.95', '+22:00:52.1', unit = (u.hourangle, u.deg))))\n",
    "\n",
    "# Orion Nebula\n",
    "print('Orion Nebula coordinates are {}'.format(ap.coordinates.SkyCoord('05:35:17.3', '-05:23:28', unit = (u.hourangle, u.deg))))\n",
    "\n",
    "# M17\n",
    "print('M17 coordinates are {}'.format(ap.coordinates.SkyCoord('18:20:26', '-16:10.6', unit = (u.hourangle, u.deg))))\n",
    "\n",
    "# Cygnus A \n",
    "print('CygA coordinates are {}'.format(ap.coordinates.SkyCoord('19:59:28.357', '+40:44:02.1', unit = (u.hourangle, u.deg))))\n",
    "\n",
    "# Cas A\n",
    "print('Cas A coordinates {}'.format(ap.coordinates.SkyCoord('23:23:24', '+58:48.9', unit = (u.hourangle, u.deg))))"
   ]
  },
  {
   "cell_type": "code",
   "execution_count": 4,
   "metadata": {
    "collapsed": true
   },
   "outputs": [],
   "source": [
    "def julianDayArray(hrs, dt, initUnixT):\n",
    "    interval = hrs*60./dt\n",
    "    secInt = dt*60.\n",
    "    jds = []\n",
    "    for i in range(int(interval)):\n",
    "        jds.append(ugradio.timing.julian_date(initUnixT + secInt*i))\n",
    "    # actual julian data to put into alt az functions\n",
    "    jds = np.array(jds)\n",
    "    # start from 0 and convert to hours for plot\n",
    "    jdHrs = []\n",
    "    jdHrs = (jds - jds[0])*24\n",
    "    return jds, np.array(jdHrs)"
   ]
  },
  {
   "cell_type": "code",
   "execution_count": 5,
   "metadata": {
    "collapsed": true
   },
   "outputs": [],
   "source": [
    "def findAltAz(ra, dec, jd_array):\n",
    "    altArr = []\n",
    "    azArr = []\n",
    "    for j in jd_array:\n",
    "        raP, decP = ugradio.coord.precess(ra, dec, jd = j)\n",
    "        alt, az = ugradio.coord.get_altaz(raP, decP, jd =j)\n",
    "        altArr.append(alt)\n",
    "        azArr.append(az)\n",
    "    return np.array(altArr), np.array(azArr)"
   ]
  },
  {
   "cell_type": "code",
   "execution_count": 6,
   "metadata": {
    "collapsed": false
   },
   "outputs": [],
   "source": [
    "def moonAltAz(jd_array):\n",
    "    altArr = []\n",
    "    azArr = []\n",
    "    for j in jd_array:\n",
    "        raM,decM = ugradio.coord.moonpos(jd = j)\n",
    "        alt, az = ugradio.coord.get_altaz(raM, decM, jd = j)\n",
    "        altArr.append(alt)\n",
    "        azArr.append(az)\n",
    "    return np.array(altArr), np.array(azArr)"
   ]
  },
  {
   "cell_type": "code",
   "execution_count": 7,
   "metadata": {
    "collapsed": true
   },
   "outputs": [],
   "source": [
    "def sunAltAz(jd_array):\n",
    "    altArr = []\n",
    "    azArr = []\n",
    "    for j in jd_array:\n",
    "        raS, decS = ugradio.coord.sunpos(jd = j)\n",
    "        alt, az = ugradio.coord.get_altaz(raS, decS, jd = j)\n",
    "        altArr.append(alt)\n",
    "        azArr.append(az)\n",
    "    return np.array(altArr), np.array(azArr)"
   ]
  },
  {
   "cell_type": "code",
   "execution_count": 8,
   "metadata": {
    "collapsed": true
   },
   "outputs": [],
   "source": [
    "def corrections(altitude, azimuth):\n",
    "    for al, az, i in zip(altitude, azimuth, range(len(altitude))):\n",
    "        if az < 90:\n",
    "            azimuth[i] = az + 180\n",
    "            altitude[i] = abs(180 - altitude[i])\n",
    "        elif az > 300:\n",
    "            azimuth[i] = az - 180\n",
    "            altitude[i] = abs(180 - altitude[i])\n",
    "    return altitude, azimuth"
   ]
  },
  {
   "cell_type": "code",
   "execution_count": 16,
   "metadata": {
    "collapsed": true
   },
   "outputs": [],
   "source": [
    "def collect_data(ra, dec, hrs, dt, n, dataFile):\n",
    "    \n",
    "    unix = ugradio.timing.unix_time()\n",
    "    jds, jdsHr = julianDayArray(hrs, dt, unix)\n",
    "    alts, azs = findAltAz(ra, dec, jds)\n",
    "    correctAlt, correctAz = corrections(alts, azs)\n",
    "    \n",
    "    ct = 0\n",
    "    for al, az in zip(correctAlt, correctAz):\n",
    "        ifm.point(al, az)\n",
    "        get_point = ifm.get_pointing()\n",
    "        valAltAz = get_point.values()\n",
    "        print('{}\\t{}\\t{}\\t{}\\n'.format(valAltAz[0][0], valAltAz[0][1], valAltAz[1][0], valAltAz[1][1]))\n",
    "        \n",
    "        hpm.start_recording(n)\n",
    "        start_time = time.time()\n",
    "        time.sleep(dt*60)\n",
    "        current_time = time.time()\n",
    "        if current_time - start_time >= dt*60:\n",
    "            volts, times = hpm.end_recording()\n",
    "            np.savez('{}_{}'.format(dataFile, ct), v = volts, tt = times)   \n",
    "            ct += 1"
   ]
  },
  {
   "cell_type": "code",
   "execution_count": 17,
   "metadata": {
    "collapsed": true
   },
   "outputs": [
    {
     "name": "stdout",
     "output_type": "stream",
     "text": [
      "146.27734375\t218.326855469\t146.140136719\t218.301757812\n",
      "\n",
      "144.365722656\t219.029980469\t144.31640625\t218.982910156\n",
      "\n",
      "142.476074219\t219.645214844\t142.316894531\t219.598144531\n",
      "\n",
      "140.542480469\t220.106640625\t140.493164062\t220.081542969\n",
      "\n",
      "138.630859375\t220.480175781\t138.581542969\t220.455078125\n",
      "\n",
      "136.719238281\t220.743847656\t136.691894531\t220.71875\n",
      "\n",
      "134.785644531\t220.831738281\t134.758300781\t220.850585938\n",
      "\n",
      "132.874023438\t220.809765625\t132.780761719\t220.828613281\n",
      "\n",
      "130.918457031\t220.612011719\t130.847167969\t220.608886719\n",
      "\n",
      "128.984863281\t220.238476562\t128.891601562\t220.235351562\n",
      "\n",
      "127.051269531\t219.645214844\t127.045898438\t219.642089844\n",
      "\n",
      "125.18359375\t218.78828125\t125.15625\t218.807128906\n",
      "\n",
      "123.337890625\t217.667675781\t123.354492188\t217.686523438\n",
      "\n",
      "121.558105469\t216.261425781\t121.596679688\t216.258300781\n",
      "\n",
      "119.822265625\t214.481640625\t119.794921875\t214.456542969\n",
      "\n",
      "118.174316406\t212.328320312\t118.190917969\t212.347167969\n",
      "\n",
      "116.680175781\t209.779492188\t116.674804688\t209.710449219\n",
      "\n",
      "115.273925781\t206.681347656\t115.224609375\t206.678222656\n",
      "\n",
      "114.043457031\t203.055859375\t113.994140625\t203.118652344\n",
      "\n",
      "112.988769531\t198.903027344\t112.939453125\t198.987792969\n",
      "\n",
      "112.109863281\t194.464550781\t112.104492188\t194.483398438\n",
      "\n",
      "111.516601562\t189.564648438\t111.467285156\t189.539550781\n",
      "\n",
      "111.208984375\t184.225292969\t111.09375\t184.244140625\n",
      "\n",
      "111.055175781\t178.798046875\t111.049804688\t178.838867188\n",
      "\n",
      "111.208984375\t173.458691406\t111.203613281\t173.587402344\n",
      "\n",
      "111.626464844\t168.251171875\t111.511230469\t168.357910156\n",
      "\n",
      "112.285644531\t163.505078125\t112.214355469\t163.523925781\n",
      "\n",
      "113.40625\t159.242382812\t113.093261719\t159.217285156\n",
      "\n",
      "114.438964844\t155.397167969\t114.279785156\t155.262207031\n",
      "\n",
      "115.559570312\t151.99140625\t115.708007812\t152.076171875\n",
      "\n",
      "117.317382812\t149.112988281\t117.0703125\t149.109863281\n",
      "\n",
      "118.943359375\t146.849804688\t118.65234375\t146.736816406\n",
      "\n",
      "120.61328125\t144.410839844\t120.05859375\t144.715332031\n",
      "\n",
      "122.327148438\t143.20234375\t121.9921875\t143.133300781\n",
      "\n",
      "124.019042969\t141.862011719\t123.837890625\t141.880859375\n",
      "\n",
      "126.018554688\t140.895214844\t125.639648438\t140.870117188\n",
      "\n",
      "127.776367188\t140.148144531\t127.485351562\t140.123046875\n",
      "\n",
      "129.775878906\t139.576855469\t129.375\t139.617675781\n",
      "\n",
      "131.621582031\t139.313183594\t131.440429688\t139.310058594\n",
      "\n",
      "133.555175781\t139.159375\t133.286132812\t139.178222656\n",
      "\n"
     ]
    }
   ],
   "source": [
    "collect_data(350.85,  58.815,10,15,.5,'CasA')"
   ]
  },
  {
   "cell_type": "code",
   "execution_count": 21,
   "metadata": {
    "collapsed": false
   },
   "outputs": [],
   "source": [
    "def collect_data_sun(hrs, dt, n, dataFile):\n",
    "    \n",
    "    unix = ugradio.timing.unix_time()\n",
    "    jds, jdsHr = julianDayArray(hrs, dt, unix)\n",
    "    alts, azs = sunAltAz(jds)\n",
    "    correctAlt, correctAz = corrections(alts, azs)\n",
    "    \n",
    "    ct = 0\n",
    "    for al, az in zip(correctAlt, correctAz):\n",
    "        ifm.point(al, az)\n",
    "        get_point = ifm.get_pointing()\n",
    "        valAltAz = get_point.values()\n",
    "        print('{}\\t{}\\t{}\\t{}\\n'.format(valAltAz[0][0], valAltAz[0][1], valAltAz[1][0], valAltAz[1][1]))\n",
    "        \n",
    "        hpm.start_recording(n)\n",
    "        start_time = time.time()\n",
    "        time.sleep(dt*60)\n",
    "        current_time = time.time()\n",
    "        if current_time - start_time >= dt*60:\n",
    "            volts, times = hpm.end_recording()\n",
    "            np.savez('{}_{}'.format(dataFile, ct), v = volts, tt = times)   \n",
    "            ct += 1"
   ]
  },
  {
   "cell_type": "code",
   "execution_count": 22,
   "metadata": {
    "collapsed": false
   },
   "outputs": [
    {
     "name": "stdout",
     "output_type": "stream",
     "text": [
      "8.4208984375\t253.570996094\t8.37158203125\t255.040039062\n",
      "\n",
      "8.2890625\t255.5265625\t8.26171875\t255.501464844\n",
      "\n",
      "8.09130859375\t255.680371094\t8.0419921875\t255.69921875\n",
      "\n",
      "7.87158203125\t255.856152344\t7.8662109375\t255.853027344\n",
      "\n",
      "7.7177734375\t256.009960938\t7.66845703125\t256.006835938\n",
      "\n",
      "7.498046875\t256.163769531\t7.49267578125\t256.160644531\n",
      "\n",
      "7.322265625\t256.339550781\t7.294921875\t256.336425781\n",
      "\n",
      "7.1025390625\t256.493359375\t7.119140625\t256.490234375\n",
      "\n",
      "6.9267578125\t256.647167969\t6.8994140625\t256.644042969\n",
      "\n",
      "6.7509765625\t256.800976562\t6.70166015625\t256.797851562\n",
      "\n"
     ]
    }
   ],
   "source": [
    "collect_data_sun(1./6,1,0.5,'Sun_test')"
   ]
  },
  {
   "cell_type": "code",
   "execution_count": 11,
   "metadata": {
    "collapsed": false
   },
   "outputs": [],
   "source": [
    "# Julian day times for 24 hours at 15 minute intervals starting March 4th at 3 am\n",
    "jd_times, jd_72hrs = julianDayArray(20, 15, ugradio.timing.unix_time())\n",
    "# jd_moon, jd_24moon = julianDayArray(24, 3, 1520166599.7119844)"
   ]
  },
  {
   "cell_type": "code",
   "execution_count": 13,
   "metadata": {
    "collapsed": false
   },
   "outputs": [],
   "source": [
    "# Find Coordinates for Objects of Interest\n",
    "crabAlt, crabAz = findAltAz(83.633125,  22.01447222, jd_times)\n",
    "orionAlt, orionAz = findAltAz(83.82208333, -5.39111111, jd_times)\n",
    "M17Alt, M17Az = findAltAz(275.10833333, -16.17666667, jd_times)\n",
    "CygAlt, CybAz = findAltAz(299.86815417,  40.73391667, jd_times)\n",
    "CasAlt, CasAz = findAltAz(350.85,  58.815, jd_times)\n",
    "# moonAlt, moonAz = moonAltAz(jd_moon)\n",
    "# sunAlt, sunAz = sunAltAz(jd_moon)"
   ]
  },
  {
   "cell_type": "code",
   "execution_count": 14,
   "metadata": {
    "collapsed": false
   },
   "outputs": [
    {
     "data": {
      "text/plain": [
       "<matplotlib.text.Text at 0x7f0df5215a50>"
      ]
     },
     "execution_count": 14,
     "metadata": {},
     "output_type": "execute_result"
    },
    {
     "data": {
      "image/png": "[encoded data removed]",
      "text/plain": [
       "<matplotlib.figure.Figure at 0x7f0df9da4990>"
      ]
     },
     "metadata": {},
     "output_type": "display_data"
    }
   ],
   "source": [
    "plt.figure(figsize = (10,6))\n",
    "plt.plot(jd_72hrs+7, crabAlt, label = 'crab Nebula')\n",
    "plt.plot(jd_72hrs+7, orionAlt, label = 'Orion')\n",
    "plt.plot(jd_72hrs+7, M17Alt, label = 'M17')\n",
    "plt.plot(jd_72hrs+7, CygAlt, label = 'Cygnus')\n",
    "plt.plot(jd_72hrs+7, CasAlt, label = 'Cas')\n",
    "# plt.plot(jd_24moon+3, moonAlt, label = 'Moon', c = 'navy')\n",
    "# plt.plot(jd_24moon+3, sunAlt, 'y', label = 'Sun')\n",
    "plt.ylim(0,100)\n",
    "plt.xlim(3,35)\n",
    "plt.legend(loc = 'lower right')\n",
    "plt.xlabel('PST TIME')\n",
    "plt.ylabel('ALTITUDE')\n",
    "plt.title('March 4th')"
   ]
  },
  {
   "cell_type": "code",
   "execution_count": null,
   "metadata": {
    "collapsed": false
   },
   "outputs": [],
   "source": [
    "with open('{}.txt'.format('test'), 'w') as pointFile: \n",
    "    pointFile.write('{}\\n{}'.format('alt', 'az'))"
   ]
  },
  {
   "cell_type": "code",
   "execution_count": null,
   "metadata": {
    "collapsed": true
   },
   "outputs": [],
   "source": [
    "def collect_moon_now():\n",
    "    start_t = ugradio.timing.unix_time()\n",
    "    moonRA, moonDEC = ugradio.coord.moonpos()\n",
    "    moonALT, moonAZ = ugradio.coord.get_altaz(moonRA, moonDEC)\n",
    "    ifm.point(moonALT, moonAZ)\n",
    "    print('Where am I pointing?', ifm.get_pointing(), 'and where is the moon?', moonALT, moonAZ)\n",
    "    hpm.start_recording(0.2)\n",
    "    \n",
    "    V, t = hpm.get_recording_data()"
   ]
  },
  {
   "cell_type": "code",
   "execution_count": null,
   "metadata": {
    "collapsed": false
   },
   "outputs": [],
   "source": [
    "print(time.time())\n",
    "print(ugradio.timing.unix_time())"
   ]
  },
  {
   "cell_type": "code",
   "execution_count": null,
   "metadata": {
    "collapsed": false
   },
   "outputs": [],
   "source": [
    "moonRA, moonDEC = ugradio.coord.moonpos()\n",
    "moonALT, moonAZ = ugradio.coord.get_altaz(moonRA, moonDEC)"
   ]
  },
  {
   "cell_type": "code",
   "execution_count": null,
   "metadata": {
    "collapsed": false
   },
   "outputs": [],
   "source": [
    "moonALT, moonAZ"
   ]
  },
  {
   "cell_type": "code",
   "execution_count": null,
   "metadata": {
    "collapsed": false
   },
   "outputs": [],
   "source": [
    "ugradio.coord.sunpos()"
   ]
  },
  {
   "cell_type": "code",
   "execution_count": null,
   "metadata": {
    "collapsed": false
   },
   "outputs": [],
   "source": [
    "ifm.get_pointing()"
   ]
  },
  {
   "cell_type": "code",
   "execution_count": null,
   "metadata": {
    "collapsed": false
   },
   "outputs": [],
   "source": [
    "ifm.point(moonALT, moonAZ)"
   ]
  },
  {
   "cell_type": "code",
   "execution_count": null,
   "metadata": {
    "collapsed": false
   },
   "outputs": [],
   "source": [
    "hpm.start_recording(0.3)"
   ]
  },
  {
   "cell_type": "code",
   "execution_count": null,
   "metadata": {
    "collapsed": false
   },
   "outputs": [],
   "source": [
    "901*.15"
   ]
  },
  {
   "cell_type": "code",
   "execution_count": null,
   "metadata": {
    "collapsed": false
   },
   "outputs": [],
   "source": [
    "hpm.get_recording_status()"
   ]
  },
  {
   "cell_type": "code",
   "execution_count": null,
   "metadata": {
    "collapsed": false
   },
   "outputs": [],
   "source": [
    "# hpm.end_recording()"
   ]
  },
  {
   "cell_type": "code",
   "execution_count": null,
   "metadata": {
    "collapsed": true
   },
   "outputs": [],
   "source": [
    "# V_025, t_025 = hpm.get_recording_data()"
   ]
  },
  {
   "cell_type": "code",
   "execution_count": null,
   "metadata": {
    "collapsed": true
   },
   "outputs": [],
   "source": [
    "# V_015, t_015 = hpm.get_recording_data()"
   ]
  },
  {
   "cell_type": "code",
   "execution_count": null,
   "metadata": {
    "collapsed": true
   },
   "outputs": [],
   "source": [
    "# V_005, t_005 = hpm.get_recording_data()"
   ]
  },
  {
   "cell_type": "code",
   "execution_count": null,
   "metadata": {
    "collapsed": true
   },
   "outputs": [],
   "source": [
    "V_01, t_01 = hpm.get_recording_data()"
   ]
  },
  {
   "cell_type": "code",
   "execution_count": null,
   "metadata": {
    "collapsed": true
   },
   "outputs": [],
   "source": [
    "# V_1, t_1 = hpm.get_recording_data()"
   ]
  },
  {
   "cell_type": "code",
   "execution_count": null,
   "metadata": {
    "collapsed": false
   },
   "outputs": [],
   "source": [
    "V_02, t_02 = hpm.get_recording_data()"
   ]
  },
  {
   "cell_type": "code",
   "execution_count": null,
   "metadata": {
    "collapsed": true
   },
   "outputs": [],
   "source": [
    "V_03, t_03 = hpm.get_recording_data()"
   ]
  },
  {
   "cell_type": "code",
   "execution_count": null,
   "metadata": {
    "collapsed": false
   },
   "outputs": [],
   "source": [
    "plt.plot(t_03, V_03)\n",
    "plt.plot()"
   ]
  },
  {
   "cell_type": "code",
   "execution_count": null,
   "metadata": {
    "collapsed": false
   },
   "outputs": [],
   "source": [
    "plt.plot(t_025, V_025)\n",
    "plt.plot()"
   ]
  },
  {
   "cell_type": "code",
   "execution_count": null,
   "metadata": {
    "collapsed": false
   },
   "outputs": [],
   "source": [
    "plt.plot(t_015, V_015)"
   ]
  },
  {
   "cell_type": "code",
   "execution_count": null,
   "metadata": {
    "collapsed": false
   },
   "outputs": [],
   "source": [
    "plt.plot(t_005, V_005)"
   ]
  },
  {
   "cell_type": "code",
   "execution_count": null,
   "metadata": {
    "collapsed": false
   },
   "outputs": [],
   "source": [
    "plt.plot(t_01, V_01)"
   ]
  },
  {
   "cell_type": "code",
   "execution_count": null,
   "metadata": {
    "collapsed": false
   },
   "outputs": [],
   "source": [
    "plt.plot(t_02,V_02)"
   ]
  },
  {
   "cell_type": "code",
   "execution_count": null,
   "metadata": {
    "collapsed": false
   },
   "outputs": [],
   "source": [
    "t_02"
   ]
  },
  {
   "cell_type": "code",
   "execution_count": null,
   "metadata": {
    "collapsed": false
   },
   "outputs": [],
   "source": [
    "plt.plot(t_1, V_1)"
   ]
  }
 ],
 "metadata": {
  "kernelspec": {
   "display_name": "Python 2",
   "language": "python",
   "name": "python2"
  },
  "language_info": {
   "codemirror_mode": {
    "name": "ipython",
    "version": 2
   },
   "file_extension": ".py",
   "mimetype": "text/x-python",
   "name": "python",
   "nbconvert_exporter": "python",
   "pygments_lexer": "ipython2",
   "version": "2.7.6"
  }
 },
 "nbformat": 4,
 "nbformat_minor": 1
}
