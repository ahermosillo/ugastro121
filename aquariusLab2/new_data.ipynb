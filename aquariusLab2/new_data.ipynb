{
 "cells": [
  {
   "cell_type": "code",
   "execution_count": 2,
   "metadata": {
    "collapsed": false
   },
   "outputs": [
    {
     "name": "stdout",
     "output_type": "stream",
     "text": [
      "Populating the interactive namespace from numpy and matplotlib\n"
     ]
    }
   ],
   "source": [
    "import ugradio\n",
    "import numpy as np\n",
    "import matplotlib.pyplot as plt\n",
    "import glob\n",
    "import lab2\n",
    "\n",
    "%pylab inline"
   ]
  },
  {
   "cell_type": "code",
   "execution_count": 9,
   "metadata": {
    "collapsed": false
   },
   "outputs": [
    {
     "name": "stdout",
     "output_type": "stream",
     "text": [
      "after this loop:\n",
      " local now = Wed Feb 14 21:10:45 2018\n",
      "ut now = Thu Feb 15 05:10:45 2018\n",
      "julian_now = 1518671445.44\n",
      "lst_now = 2458164.7158\n",
      "after this loop:\n",
      " local now = Wed Feb 14 21:10:59 2018\n",
      "ut now = Thu Feb 15 05:10:59 2018\n",
      "julian_now = 1518671459.77\n",
      "lst_now = 2458164.71597\n",
      "after this loop:\n",
      " local now = Wed Feb 14 21:11:13 2018\n",
      "ut now = Thu Feb 15 05:11:13 2018\n",
      "julian_now = 1518671473.24\n",
      "lst_now = 2458164.71613\n",
      "after this loop:\n",
      " local now = Wed Feb 14 21:11:26 2018\n",
      "ut now = Thu Feb 15 05:11:26 2018\n",
      "julian_now = 1518671486.82\n",
      "lst_now = 2458164.71628\n",
      "after this loop:\n",
      " local now = Wed Feb 14 21:11:40 2018\n",
      "ut now = Thu Feb 15 05:11:40 2018\n",
      "julian_now = 1518671500.27\n",
      "lst_now = 2458164.71644\n",
      "after this loop:\n",
      " local now = Wed Feb 14 21:11:53 2018\n",
      "ut now = Thu Feb 15 05:11:53 2018\n",
      "julian_now = 1518671513.86\n",
      "lst_now = 2458164.7166\n",
      "after this loop:\n",
      " local now = Wed Feb 14 21:12:07 2018\n",
      "ut now = Thu Feb 15 05:12:07 2018\n",
      "julian_now = 1518671527.3\n",
      "lst_now = 2458164.71675\n",
      "after this loop:\n",
      " local now = Wed Feb 14 21:12:20 2018\n",
      "ut now = Thu Feb 15 05:12:20 2018\n",
      "julian_now = 1518671540.66\n",
      "lst_now = 2458164.71691\n",
      "after this loop:\n",
      " local now = Wed Feb 14 21:12:34 2018\n",
      "ut now = Thu Feb 15 05:12:34 2018\n",
      "julian_now = 1518671554.1\n",
      "lst_now = 2458164.71706\n",
      "after this loop:\n",
      " local now = Wed Feb 14 21:12:47 2018\n",
      "ut now = Thu Feb 15 05:12:47 2018\n",
      "julian_now = 1518671567.57\n",
      "lst_now = 2458164.71722\n"
     ]
    }
   ],
   "source": [
    "# for i in range(10):\n",
    "#     np.savetxt('1420_notest_{}.txt'.format(i), ugradio.pico.capture_data('100mV', divisor = 1, dual_mode = True, nblocks=99))\n",
    "#     print('after this loop:\\n local now = {}\\nut now = {}\\njulian_now = {}\\nlst_now = {}'.format(ugradio.timing.local_time(),\n",
    "#                                                                                                 ugradio.timing.utc(), \n",
    "                                                                                                ugradio.timing.unix_time(),\n",
    "                                                                                                ugradio.timing.julian_date(),\n",
    "                                                                                                ugradio.timing.lst()))"
   ]
  },
  {
   "cell_type": "code",
   "execution_count": null,
   "metadata": {
    "collapsed": false
   },
   "outputs": [],
   "source": [
    "read_files = glob.glob(\"1420_data/1420_notest*.txt\")\n",
    "\n",
    "with open(\"1420_990Blocks.txt\", \"wb\") as outfile:\n",
    "    for f in read_files:\n",
    "#         print(f)\n",
    "        with open(f[:1584000], \"rb\") as infile:\n",
    "            print(infile.read())\n",
    "            outfile.write(infile.read())"
   ]
  },
  {
   "cell_type": "code",
   "execution_count": 22,
   "metadata": {
    "collapsed": true
   },
   "outputs": [],
   "source": [
    "g = np.genfromtxt('1420_data/1420_notest_6.txt')"
   ]
  },
  {
   "cell_type": "code",
   "execution_count": 24,
   "metadata": {
    "collapsed": true
   },
   "outputs": [],
   "source": [
    "h = np.genfromtxt('1420_data/1420_notest_9.txt')"
   ]
  },
  {
   "cell_type": "code",
   "execution_count": 18,
   "metadata": {
    "collapsed": false
   },
   "outputs": [
    {
     "data": {
      "text/plain": [
       "1584000"
      ]
     },
     "execution_count": 18,
     "metadata": {},
     "output_type": "execute_result"
    }
   ],
   "source": [
    "len(g)/2"
   ]
  },
  {
   "cell_type": "code",
   "execution_count": 27,
   "metadata": {
    "collapsed": false
   },
   "outputs": [
    {
     "data": {
      "text/plain": [
       "1024.0"
      ]
     },
     "execution_count": 27,
     "metadata": {},
     "output_type": "execute_result"
    }
   ],
   "source": [
    "g[1584000-1]"
   ]
  },
  {
   "cell_type": "code",
   "execution_count": 25,
   "metadata": {
    "collapsed": false
   },
   "outputs": [
    {
     "data": {
      "text/plain": [
       "-512.0"
      ]
     },
     "execution_count": 25,
     "metadata": {},
     "output_type": "execute_result"
    }
   ],
   "source": [
    "h[0]"
   ]
  },
  {
   "cell_type": "code",
   "execution_count": 4,
   "metadata": {
    "collapsed": false
   },
   "outputs": [
    {
     "data": {
      "text/plain": [
       "3168000"
      ]
     },
     "execution_count": 4,
     "metadata": {},
     "output_type": "execute_result"
    }
   ],
   "source": [
    "99*32000"
   ]
  },
  {
   "cell_type": "code",
   "execution_count": 5,
   "metadata": {
    "collapsed": false
   },
   "outputs": [
    {
     "data": {
      "text/plain": [
       "1584000"
      ]
     },
     "execution_count": 5,
     "metadata": {},
     "output_type": "execute_result"
    }
   ],
   "source": [
    "3168000/2"
   ]
  },
  {
   "cell_type": "code",
   "execution_count": 6,
   "metadata": {
    "collapsed": false
   },
   "outputs": [
    {
     "data": {
      "text/plain": [
       "15840000"
      ]
     },
     "execution_count": 6,
     "metadata": {},
     "output_type": "execute_result"
    }
   ],
   "source": [
    "10*1584000"
   ]
  },
  {
   "cell_type": "code",
   "execution_count": 10,
   "metadata": {
    "collapsed": false
   },
   "outputs": [
    {
     "name": "stdout",
     "output_type": "stream",
     "text": [
      "after this loop:\n",
      " local now = Wed Feb 14 21:14:21 2018\n",
      "ut now = Thu Feb 15 05:14:21 2018\n",
      "julian_now = 1518671661.55\n",
      "lst_now = 2458164.7183\n",
      "after this loop:\n",
      " local now = Wed Feb 14 21:14:35 2018\n",
      "ut now = Thu Feb 15 05:14:35 2018\n",
      "julian_now = 1518671675.2\n",
      "lst_now = 2458164.71846\n",
      "after this loop:\n",
      " local now = Wed Feb 14 21:14:48 2018\n",
      "ut now = Thu Feb 15 05:14:48 2018\n",
      "julian_now = 1518671688.55\n",
      "lst_now = 2458164.71862\n",
      "after this loop:\n",
      " local now = Wed Feb 14 21:15:02 2018\n",
      "ut now = Thu Feb 15 05:15:02 2018\n",
      "julian_now = 1518671702.17\n",
      "lst_now = 2458164.71878\n",
      "after this loop:\n",
      " local now = Wed Feb 14 21:15:15 2018\n",
      "ut now = Thu Feb 15 05:15:15 2018\n",
      "julian_now = 1518671715.68\n",
      "lst_now = 2458164.71893\n",
      "after this loop:\n",
      " local now = Wed Feb 14 21:15:29 2018\n",
      "ut now = Thu Feb 15 05:15:29 2018\n",
      "julian_now = 1518671729.41\n",
      "lst_now = 2458164.71909\n",
      "after this loop:\n",
      " local now = Wed Feb 14 21:15:43 2018\n",
      "ut now = Thu Feb 15 05:15:43 2018\n",
      "julian_now = 1518671743.05\n",
      "lst_now = 2458164.71925\n",
      "after this loop:\n",
      " local now = Wed Feb 14 21:15:56 2018\n",
      "ut now = Thu Feb 15 05:15:56 2018\n",
      "julian_now = 1518671756.88\n",
      "lst_now = 2458164.71941\n",
      "after this loop:\n",
      " local now = Wed Feb 14 21:16:10 2018\n",
      "ut now = Thu Feb 15 05:16:10 2018\n",
      "julian_now = 1518671770.71\n",
      "lst_now = 2458164.71957\n",
      "after this loop:\n",
      " local now = Wed Feb 14 21:16:24 2018\n",
      "ut now = Thu Feb 15 05:16:24 2018\n",
      "julian_now = 1518671784.2\n",
      "lst_now = 2458164.71972\n"
     ]
    }
   ],
   "source": [
    "for i in range(10):\n",
    "    np.savetxt('1421_test_{}.txt'.format(i), ugradio.pico.capture_data('100mV', divisor = 1, dual_mode = True, nblocks=99))\n",
    "    print('after this loop:\\n local now = {}\\nut now = {}\\njulian_now = {}\\nlst_now = {}'.format(ugradio.timing.local_time(),\n",
    "                                                                                                ugradio.timing.utc(), \n",
    "                                                                                                ugradio.timing.unix_time(),\n",
    "                                                                                                ugradio.timing.julian_date(),\n",
    "                                                                                                ugradio.timing.lst()))"
   ]
  },
  {
   "cell_type": "code",
   "execution_count": null,
   "metadata": {
    "collapsed": true
   },
   "outputs": [],
   "source": []
  },
  {
   "cell_type": "code",
   "execution_count": 13,
   "metadata": {
    "collapsed": true
   },
   "outputs": [],
   "source": [
    "read_files = glob.glob(\"1421_test*.txt\")\n",
    "\n",
    "with open(\"1421_990Blocks.txt\", \"wb\") as outfile:\n",
    "    for f in read_files:\n",
    "        with open(f, \"rb\") as infile:\n",
    "            outfile.write(infile.read())"
   ]
  },
  {
   "cell_type": "code",
   "execution_count": 11,
   "metadata": {
    "collapsed": false
   },
   "outputs": [
    {
     "name": "stdout",
     "output_type": "stream",
     "text": [
      "after this loop:\n",
      " local now = Wed Feb 14 21:17:21 2018\n",
      "ut now = Thu Feb 15 05:17:21 2018\n",
      "julian_now = 1518671841.91\n",
      "lst_now = 2458164.72039\n",
      "after this loop:\n",
      " local now = Wed Feb 14 21:17:35 2018\n",
      "ut now = Thu Feb 15 05:17:35 2018\n",
      "julian_now = 1518671855.25\n",
      "lst_now = 2458164.72055\n",
      "after this loop:\n",
      " local now = Wed Feb 14 21:17:48 2018\n",
      "ut now = Thu Feb 15 05:17:48 2018\n",
      "julian_now = 1518671868.69\n",
      "lst_now = 2458164.7207\n",
      "after this loop:\n",
      " local now = Wed Feb 14 21:18:02 2018\n",
      "ut now = Thu Feb 15 05:18:02 2018\n",
      "julian_now = 1518671882.05\n",
      "lst_now = 2458164.72086\n",
      "after this loop:\n",
      " local now = Wed Feb 14 21:18:15 2018\n",
      "ut now = Thu Feb 15 05:18:15 2018\n",
      "julian_now = 1518671895.69\n",
      "lst_now = 2458164.72101\n",
      "after this loop:\n",
      " local now = Wed Feb 14 21:18:29 2018\n",
      "ut now = Thu Feb 15 05:18:29 2018\n",
      "julian_now = 1518671909.09\n",
      "lst_now = 2458164.72117\n",
      "after this loop:\n",
      " local now = Wed Feb 14 21:18:42 2018\n",
      "ut now = Thu Feb 15 05:18:42 2018\n",
      "julian_now = 1518671922.56\n",
      "lst_now = 2458164.72133\n",
      "after this loop:\n",
      " local now = Wed Feb 14 21:18:56 2018\n",
      "ut now = Thu Feb 15 05:18:56 2018\n",
      "julian_now = 1518671936.01\n",
      "lst_now = 2458164.72148\n",
      "after this loop:\n",
      " local now = Wed Feb 14 21:19:09 2018\n",
      "ut now = Thu Feb 15 05:19:09 2018\n",
      "julian_now = 1518671949.5\n",
      "lst_now = 2458164.72164\n",
      "after this loop:\n",
      " local now = Wed Feb 14 21:19:22 2018\n",
      "ut now = Thu Feb 15 05:19:22 2018\n",
      "julian_now = 1518671962.94\n",
      "lst_now = 2458164.72179\n"
     ]
    }
   ],
   "source": [
    "for i in range(10):\n",
    "    np.savetxt('1419_test_{}.txt'.format(i), ugradio.pico.capture_data('100mV', divisor = 1, dual_mode = True, nblocks=99))\n",
    "    print('after this loop:\\n local now = {}\\nut now = {}\\njulian_now = {}\\nlst_now = {}'.format(ugradio.timing.local_time(),\n",
    "                                                                                                ugradio.timing.utc(), \n",
    "                                                                                                ugradio.timing.unix_time(),\n",
    "                                                                                                ugradio.timing.julian_date(),\n",
    "                                                                                                ugradio.timing.lst()))"
   ]
  },
  {
   "cell_type": "code",
   "execution_count": 14,
   "metadata": {
    "collapsed": true
   },
   "outputs": [],
   "source": [
    "read_files = glob.glob(\"1419_test*.txt\")\n",
    "\n",
    "with open(\"1419_990Blocks.txt\", \"wb\") as outfile:\n",
    "    for f in read_files:\n",
    "        with open(f, \"rb\") as infile:\n",
    "            outfile.write(infile.read())"
   ]
  },
  {
   "cell_type": "code",
   "execution_count": 2,
   "metadata": {
    "collapsed": false
   },
   "outputs": [],
   "source": [
    "def make_complex(data, nblocs):\n",
    "    split = np.array(np.split(data, 2*nblocs))\n",
    "    real =  np.array(np.arange(0, 2*nblocs) >= nblocs, dtype = bool)\n",
    "    imag = np.invert(real)\n",
    "    return split[real] + 1j*split[imag]"
   ]
  },
  {
   "cell_type": "code",
   "execution_count": 6,
   "metadata": {
    "collapsed": false
   },
   "outputs": [
    {
     "data": {
      "text/plain": [
       "<module 'lab2' from 'lab2.py'>"
      ]
     },
     "execution_count": 6,
     "metadata": {},
     "output_type": "execute_result"
    }
   ],
   "source": [
    "reload(lab2)"
   ]
  },
  {
   "cell_type": "code",
   "execution_count": 10,
   "metadata": {
    "collapsed": true
   },
   "outputs": [],
   "source": [
    "d1420 = 0.1*np.genfromtxt('1420_notest_0.txt')/(2.**15)"
   ]
  },
  {
   "cell_type": "code",
   "execution_count": 11,
   "metadata": {
    "collapsed": true
   },
   "outputs": [],
   "source": [
    "d1420_comp = make_complex(d1420, 99)"
   ]
  },
  {
   "cell_type": "code",
   "execution_count": 12,
   "metadata": {
    "collapsed": false
   },
   "outputs": [
    {
     "name": "stdout",
     "output_type": "stream",
     "text": [
      "Sampling at a frequency 62.5\n",
      "Sampling with 2048 number of samples\n"
     ]
    },
    {
     "data": {
      "image/png": "[encoded data removed]",
      "text/plain": [
       "<matplotlib.figure.Figure at 0x7f415aaf65d0>"
      ]
     },
     "metadata": {},
     "output_type": "display_data"
    }
   ],
   "source": [
    "lab2.plot_power(d1420_comp, 1, 2**11)"
   ]
  },
  {
   "cell_type": "code",
   "execution_count": 13,
   "metadata": {
    "collapsed": false
   },
   "outputs": [
    {
     "name": "stdout",
     "output_type": "stream",
     "text": [
      "Sampling at a frequency 62.5\n",
      "Sampling with 2048 number of samples\n"
     ]
    },
    {
     "data": {
      "image/png": "[encoded data removed]",
      "text/plain": [
       "<matplotlib.figure.Figure at 0x7f41590e1590>"
      ]
     },
     "metadata": {},
     "output_type": "display_data"
    }
   ],
   "source": [
    "d1419 = 0.1*np.genfromtxt('1419_test_0.txt')/(2.**15)\n",
    "d1419_comp = make_complex(d1419, 99)\n",
    "lab2.plot_power(d1419_comp, 1, 2**11)"
   ]
  },
  {
   "cell_type": "code",
   "execution_count": 14,
   "metadata": {
    "collapsed": false
   },
   "outputs": [
    {
     "name": "stdout",
     "output_type": "stream",
     "text": [
      "Sampling at a frequency 62.5\n",
      "Sampling with 2048 number of samples\n"
     ]
    },
    {
     "data": {
      "image/png": "[encoded data removed]",
      "text/plain": [
       "<matplotlib.figure.Figure at 0x7f41590d0090>"
      ]
     },
     "metadata": {},
     "output_type": "display_data"
    }
   ],
   "source": [
    "d1421 = 0.1*np.genfromtxt('1421_test_0.txt')/(2.**15)\n",
    "d1421_comp = make_complex(d1421, 99)\n",
    "lab2.plot_power(d1421_comp, 1, 2**11)"
   ]
  },
  {
   "cell_type": "code",
   "execution_count": 45,
   "metadata": {
    "collapsed": true
   },
   "outputs": [],
   "source": [
    "def power(compData, div, N):\n",
    "    vsamp = 62.5\n",
    "    time = np.linspace(-N/2./vsamp, (N/2. - 1)/vsamp, N)\n",
    "    freq = np.linspace(-vsamp/2, (vsamp/2)*(1-2./N), N)\n",
    "    fft_ = np.fft.fft(compData[:,:N])\n",
    "    power = abs(fft_)**2\n",
    "    return freq, power"
   ]
  },
  {
   "cell_type": "code",
   "execution_count": 33,
   "metadata": {
    "collapsed": false
   },
   "outputs": [],
   "source": []
  },
  {
   "cell_type": "code",
   "execution_count": 1,
   "metadata": {
    "collapsed": false
   },
   "outputs": [
    {
     "ename": "NameError",
     "evalue": "name 'power' is not defined",
     "output_type": "error",
     "traceback": [
      "\u001b[0;31m---------------------------------------------------------------------------\u001b[0m",
      "\u001b[0;31mNameError\u001b[0m                                 Traceback (most recent call last)",
      "\u001b[0;32m<ipython-input-1-eab5d8b38510>\u001b[0m in \u001b[0;36m<module>\u001b[0;34m()\u001b[0m\n\u001b[0;32m----> 1\u001b[0;31m \u001b[0mfrequency\u001b[0m\u001b[0;34m,\u001b[0m \u001b[0mpower_spec\u001b[0m \u001b[0;34m=\u001b[0m \u001b[0mpower\u001b[0m\u001b[0;34m(\u001b[0m\u001b[0md1420_comp\u001b[0m \u001b[0;34m,\u001b[0m \u001b[0;36m1\u001b[0m\u001b[0;34m,\u001b[0m \u001b[0;36m2\u001b[0m\u001b[0;34m**\u001b[0m\u001b[0;36m9\u001b[0m\u001b[0;34m)\u001b[0m\u001b[0;34m\u001b[0m\u001b[0m\n\u001b[0m\u001b[1;32m      2\u001b[0m \u001b[0msum_power\u001b[0m \u001b[0;34m=\u001b[0m \u001b[0;36m0\u001b[0m\u001b[0;34m\u001b[0m\u001b[0m\n\u001b[1;32m      3\u001b[0m \u001b[0;32mfor\u001b[0m \u001b[0mp\u001b[0m \u001b[0;32min\u001b[0m \u001b[0mpower_spec\u001b[0m\u001b[0;34m:\u001b[0m\u001b[0;34m\u001b[0m\u001b[0m\n\u001b[1;32m      4\u001b[0m     \u001b[0msum_power\u001b[0m \u001b[0;34m+=\u001b[0m \u001b[0mp\u001b[0m\u001b[0;34m\u001b[0m\u001b[0m\n\u001b[1;32m      5\u001b[0m \u001b[0mplt\u001b[0m\u001b[0;34m.\u001b[0m\u001b[0mplot\u001b[0m\u001b[0;34m(\u001b[0m\u001b[0mnp\u001b[0m\u001b[0;34m.\u001b[0m\u001b[0mfft\u001b[0m\u001b[0;34m.\u001b[0m\u001b[0mfftshift\u001b[0m\u001b[0;34m(\u001b[0m\u001b[0mnp\u001b[0m\u001b[0;34m.\u001b[0m\u001b[0mfft\u001b[0m\u001b[0;34m.\u001b[0m\u001b[0mfftfreq\u001b[0m\u001b[0;34m(\u001b[0m\u001b[0;36m2\u001b[0m\u001b[0;34m**\u001b[0m\u001b[0;36m9\u001b[0m\u001b[0;34m)\u001b[0m\u001b[0;34m)\u001b[0m\u001b[0;34m,\u001b[0m \u001b[0mnp\u001b[0m\u001b[0;34m.\u001b[0m\u001b[0mfft\u001b[0m\u001b[0;34m.\u001b[0m\u001b[0mfftshift\u001b[0m\u001b[0;34m(\u001b[0m\u001b[0msum_power\u001b[0m\u001b[0;34m)\u001b[0m\u001b[0;34m/\u001b[0m\u001b[0mlen\u001b[0m\u001b[0;34m(\u001b[0m\u001b[0mdata\u001b[0m\u001b[0;34m)\u001b[0m\u001b[0;34m,\u001b[0m \u001b[0mlabel\u001b[0m \u001b[0;34m=\u001b[0m \u001b[0;34m'average'\u001b[0m\u001b[0;34m)\u001b[0m\u001b[0;34m\u001b[0m\u001b[0m\n",
      "\u001b[0;31mNameError\u001b[0m: name 'power' is not defined"
     ]
    }
   ],
   "source": [
    "frequency, power_spec = power(d1420_comp , 1, 2**9)\n",
    "sum_power = 0\n",
    "for p in power_spec:\n",
    "    sum_power += p\n",
    "plt.plot(np.fft.fftshift(np.fft.fftfreq(2**9)), np.fft.fftshift(sum_power)/len(data), label = 'average')\n",
    "# plt.xlim(-.2,.2)"
   ]
  },
  {
   "cell_type": "markdown",
   "metadata": {},
   "source": [
    "## Now instead of averaging over blocks lets break up those blocks into furhter chunkssss\n"
   ]
  },
  {
   "cell_type": "code",
   "execution_count": null,
   "metadata": {
    "collapsed": true
   },
   "outputs": [],
   "source": [
    "def make_complex(data, nblocs):\n",
    "    split = np.array(np.split(data, 2*nblocs))\n",
    "    real =  np.array(np.arange(0, 2*nblocs) >= nblocs, dtype = bool)\n",
    "    imag = np.invert(real)\n",
    "    return split[real] + 1j*split[imag]"
   ]
  },
  {
   "cell_type": "code",
   "execution_count": 220,
   "metadata": {
    "collapsed": false
   },
   "outputs": [
    {
     "data": {
      "text/plain": [
       "True"
      ]
     },
     "execution_count": 220,
     "metadata": {},
     "output_type": "execute_result"
    }
   ],
   "source": [
    "not len(data[0,:]) % 200"
   ]
  },
  {
   "cell_type": "code",
   "execution_count": 238,
   "metadata": {
    "collapsed": true
   },
   "outputs": [],
   "source": [
    "def make_complex_3D(data, nblocs, nchunks):\n",
    "    if len(data[0,:]) % nchunks != 0:\n",
    "        sys.exit(\"Cannot split into these number of chunks. Try a divisible of {}\".format(len(data[0,:])))\n",
    "    else:\n",
    "        new_comp = data.reshape((nblocs, nchunks, N/nchunks))\n",
    "    return new_comp"
   ]
  },
  {
   "cell_type": "code",
   "execution_count": 298,
   "metadata": {
    "collapsed": false
   },
   "outputs": [],
   "source": [
    "nblocks = 99\n",
    "N = 16000\n",
    "nchunks = 100\n",
    "newcomp = make_complex_3D(data, nblocks, nchunks)"
   ]
  },
  {
   "cell_type": "code",
   "execution_count": 299,
   "metadata": {
    "collapsed": false
   },
   "outputs": [],
   "source": [
    "frequency, newpower = power(newcomp, 1, 2**10)"
   ]
  },
  {
   "cell_type": "code",
   "execution_count": 300,
   "metadata": {
    "collapsed": false
   },
   "outputs": [
    {
     "data": {
      "text/plain": [
       "(1024,)"
      ]
     },
     "execution_count": 300,
     "metadata": {},
     "output_type": "execute_result"
    }
   ],
   "source": [
    "np.shape(frequency)"
   ]
  },
  {
   "cell_type": "code",
   "execution_count": 301,
   "metadata": {
    "collapsed": false
   },
   "outputs": [
    {
     "data": {
      "text/plain": [
       "(99, 100, 160)"
      ]
     },
     "execution_count": 301,
     "metadata": {},
     "output_type": "execute_result"
    }
   ],
   "source": [
    "newpower.shape"
   ]
  },
  {
   "cell_type": "code",
   "execution_count": 302,
   "metadata": {
    "collapsed": false
   },
   "outputs": [
    {
     "data": {
      "text/plain": [
       "(-0.2, 0.2)"
      ]
     },
     "execution_count": 302,
     "metadata": {},
     "output_type": "execute_result"
    },
    {
     "data": {
      "image/png": "[encoded data removed]",
      "text/plain": [
       "<matplotlib.figure.Figure at 0x7f20b296dd10>"
      ]
     },
     "metadata": {},
     "output_type": "display_data"
    }
   ],
   "source": [
    "sum_pr = 0\n",
    "for i in range(99):\n",
    "    for j in range(100):\n",
    "        sum_pr += newpower[i,j,:]\n",
    "plt.plot(np.fft.fftshift(np.fft.fftfreq(160)), np.fft.fftshift(sum_pr)/len(data), label = 'average')\n",
    "plt.xlim(-.2,.2)"
   ]
  },
  {
   "cell_type": "code",
   "execution_count": 168,
   "metadata": {
    "collapsed": false
   },
   "outputs": [],
   "source": [
    "test = np.zeros((2,3,4))"
   ]
  },
  {
   "cell_type": "code",
   "execution_count": 169,
   "metadata": {
    "collapsed": false
   },
   "outputs": [
    {
     "data": {
      "text/plain": [
       "array([ 0.,  0.])"
      ]
     },
     "execution_count": 169,
     "metadata": {},
     "output_type": "execute_result"
    }
   ],
   "source": [
    "test[:,1,1]"
   ]
  },
  {
   "cell_type": "code",
   "execution_count": 170,
   "metadata": {
    "collapsed": false
   },
   "outputs": [
    {
     "data": {
      "text/plain": [
       "array([ 0.,  0.,  0.])"
      ]
     },
     "execution_count": 170,
     "metadata": {},
     "output_type": "execute_result"
    }
   ],
   "source": [
    "test[0,:,0]"
   ]
  },
  {
   "cell_type": "code",
   "execution_count": 171,
   "metadata": {
    "collapsed": false
   },
   "outputs": [
    {
     "data": {
      "text/plain": [
       "array([[ 0.,  0.,  0.],\n",
       "       [ 0.,  0.,  0.]])"
      ]
     },
     "execution_count": 171,
     "metadata": {},
     "output_type": "execute_result"
    }
   ],
   "source": [
    "test[:,:,2]"
   ]
  },
  {
   "cell_type": "code",
   "execution_count": 172,
   "metadata": {
    "collapsed": false
   },
   "outputs": [],
   "source": [
    "test[:,1,1] = 2\n",
    "test[0,:,2] = 3\n",
    "test[:,:,0] = 4"
   ]
  },
  {
   "cell_type": "code",
   "execution_count": 246,
   "metadata": {
    "collapsed": false
   },
   "outputs": [
    {
     "data": {
      "text/plain": [
       "array([[[ 4.,  0.,  3.,  0.],\n",
       "        [ 4.,  2.,  3.,  0.],\n",
       "        [ 4.,  0.,  3.,  0.]],\n",
       "\n",
       "       [[ 4.,  0.,  0.,  0.],\n",
       "        [ 4.,  2.,  0.,  0.],\n",
       "        [ 4.,  0.,  0.,  0.]]])"
      ]
     },
     "execution_count": 246,
     "metadata": {},
     "output_type": "execute_result"
    }
   ],
   "source": [
    "test"
   ]
  },
  {
   "cell_type": "code",
   "execution_count": 254,
   "metadata": {
    "collapsed": false
   },
   "outputs": [
    {
     "name": "stdout",
     "output_type": "stream",
     "text": [
      "[ 4.  0.  3.  0.]\n",
      "[ 4.  2.  3.  0.]\n",
      "[ 4.  0.  3.  0.]\n",
      "[ 4.  0.  0.  0.]\n",
      "[ 4.  2.  0.  0.]\n",
      "[ 4.  0.  0.  0.]\n"
     ]
    }
   ],
   "source": [
    "for i in range(2):\n",
    "    for j in range(3):\n",
    "        print(test[i,j,:])"
   ]
  },
  {
   "cell_type": "code",
   "execution_count": 251,
   "metadata": {
    "collapsed": false
   },
   "outputs": [
    {
     "data": {
      "text/plain": [
       "array([ 4.,  0.,  3.,  0.])"
      ]
     },
     "execution_count": 251,
     "metadata": {},
     "output_type": "execute_result"
    }
   ],
   "source": [
    "test[0,2,:]"
   ]
  },
  {
   "cell_type": "code",
   "execution_count": 176,
   "metadata": {
    "collapsed": false
   },
   "outputs": [
    {
     "data": {
      "text/plain": [
       "array([ 4.,  2.,  3.,  0.])"
      ]
     },
     "execution_count": 176,
     "metadata": {},
     "output_type": "execute_result"
    }
   ],
   "source": [
    "test[0,1,:]"
   ]
  },
  {
   "cell_type": "code",
   "execution_count": null,
   "metadata": {
    "collapsed": true
   },
   "outputs": [],
   "source": [
    "test.reshape(())"
   ]
  },
  {
   "cell_type": "code",
   "execution_count": 7,
   "metadata": {
    "collapsed": false
   },
   "outputs": [
    {
     "data": {
      "text/plain": [
       "(99, 16000)"
      ]
     },
     "execution_count": 7,
     "metadata": {},
     "output_type": "execute_result"
    }
   ],
   "source": [
    "np.shape(make_complex(d,99))"
   ]
  },
  {
   "cell_type": "code",
   "execution_count": 29,
   "metadata": {
    "collapsed": false
   },
   "outputs": [
    {
     "data": {
      "text/plain": [
       "(99, 2, 8000)"
      ]
     },
     "execution_count": 29,
     "metadata": {},
     "output_type": "execute_result"
    }
   ],
   "source": [
    "np.shape(np.reshape(make_complex(d,99), (99, nchunk, (16000)/nchunk)))"
   ]
  },
  {
   "cell_type": "code",
   "execution_count": null,
   "metadata": {
    "collapsed": true
   },
   "outputs": [],
   "source": [
    "np.vsplit()"
   ]
  },
  {
   "cell_type": "code",
   "execution_count": 39,
   "metadata": {
    "collapsed": false
   },
   "outputs": [
    {
     "data": {
      "text/plain": [
       "8000"
      ]
     },
     "execution_count": 39,
     "metadata": {},
     "output_type": "execute_result"
    }
   ],
   "source": [
    "len(np.reshape(make_complex(d,99), (99, nchunk, (16000)/nchunk))[0][0])"
   ]
  },
  {
   "cell_type": "code",
   "execution_count": null,
   "metadata": {
    "collapsed": true
   },
   "outputs": [],
   "source": [
    "np.savetxt('blackbody_signal.txt'.format(i), ugradio.pico.capture_data('1V', divisor = 2, dual_mode = True, nblocks=5))"
   ]
  }
 ],
 "metadata": {
  "kernelspec": {
   "display_name": "Python 2",
   "language": "python",
   "name": "python2"
  },
  "language_info": {
   "codemirror_mode": {
    "name": "ipython",
    "version": 2
   },
   "file_extension": ".py",
   "mimetype": "text/x-python",
   "name": "python",
   "nbconvert_exporter": "python",
   "pygments_lexer": "ipython2",
   "version": "2.7.6"
  }
 },
 "nbformat": 4,
 "nbformat_minor": 1
}
