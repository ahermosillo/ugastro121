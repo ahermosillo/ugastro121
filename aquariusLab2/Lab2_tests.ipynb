{
 "cells": [
  {
   "cell_type": "code",
   "execution_count": 1,
   "metadata": {
    "collapsed": false
   },
   "outputs": [
    {
     "name": "stdout",
     "output_type": "stream",
     "text": [
      "Populating the interactive namespace from numpy and matplotlib\n"
     ]
    }
   ],
   "source": [
    "import numpy as np\n",
    "import matplotlib.pyplot as plt\n",
    "import scipy as sp\n",
    "import astropy as ap\n",
    "import ugradio\n",
    "\n",
    "\n",
    "%pylab inline"
   ]
  },
  {
   "cell_type": "code",
   "execution_count": null,
   "metadata": {
    "collapsed": true
   },
   "outputs": [],
   "source": [
    "ugradio.pico.capture_data?"
   ]
  },
  {
   "cell_type": "code",
   "execution_count": null,
   "metadata": {
    "collapsed": false
   },
   "outputs": [],
   "source": [
    "ugradio.pico.VOLT_RANGE"
   ]
  },
  {
   "cell_type": "code",
   "execution_count": 2,
   "metadata": {
    "collapsed": false
   },
   "outputs": [],
   "source": [
    "from collect_data import collect_data"
   ]
  },
  {
   "cell_type": "code",
   "execution_count": 40,
   "metadata": {
    "collapsed": false
   },
   "outputs": [
    {
     "data": {
      "text/plain": [
       "[array([ 256,  256,  256, ..., -768, -256,    0], dtype=int16),\n",
       " array([  256, -1024,     0, ...,   768,   768,   256], dtype=int16)]"
      ]
     },
     "execution_count": 40,
     "metadata": {},
     "output_type": "execute_result"
    }
   ],
   "source": [
    "collect_data('100mV', 1)\n",
    "# a, b, c = plt.hist(collect_data('100mV', 1.)[0])\n",
    "# a, b, c = plt.hist(collect_data('100mV', 1.)[1])"
   ]
  },
  {
   "cell_type": "code",
   "execution_count": 13,
   "metadata": {
    "collapsed": false
   },
   "outputs": [
    {
     "data": {
      "text/plain": [
       "array([ 1550336.00000000    +0.j        ,\n",
       "         -46142.17826396-41685.05620446j,\n",
       "         -16858.97393277-64252.48332423j, ...,\n",
       "          84639.48354794-60348.05808268j,\n",
       "         -16858.97393277+64252.48332423j,   -46142.17826396+41685.05620446j])"
      ]
     },
     "execution_count": 13,
     "metadata": {},
     "output_type": "execute_result"
    }
   ],
   "source": [
    "np.fft.fft(collect_data('100mV', 1)[0])"
   ]
  },
  {
   "cell_type": "code",
   "execution_count": null,
   "metadata": {
    "collapsed": false
   },
   "outputs": [],
   "source": [
    "# collect_data('6_2_1_50mV_1', '50mV', 1)\n",
    "\n",
    "A = 0.05*np.genfromtxt('6_2_1_50mV_1_A')/2.**15\n",
    "B = 0.05*np.genfromtxt('6_2_1_50mV_1_B')/2.**15\n",
    "\n",
    "n, bins, edges = plt.hist(A, bins = 20, alpha = 0.5, label = 'A')\n",
    "n, bins, edges = plt.hist(B, bins = 20, alpha = 0.5, label = 'B')\n",
    "plt.legend()\n",
    "\n",
    "plt.figure()\n",
    "plt.plot(A[:256], label = 'A')\n",
    "plt.plot(B[:256], label = 'B')\n",
    "plt.legend()"
   ]
  },
  {
   "cell_type": "code",
   "execution_count": null,
   "metadata": {
    "collapsed": false
   },
   "outputs": [],
   "source": [
    "# collect_data('6_2_1_100mV_1', '100mV', 1)\n",
    "\n",
    "A = 0.1*np.genfromtxt('6_2_1_100mV_1_A')/2.**15\n",
    "B = 0.1*np.genfromtxt('6_2_1_100mV_1_B')/2.**15\n",
    "\n",
    "n, bins, edges = plt.hist(A, bins = 20, alpha = 0.5, label = 'A')\n",
    "n, bins, edges = plt.hist(B, bins = 20, alpha = 0.5, label = 'B')\n",
    "plt.legend()\n",
    "\n",
    "plt.figure()\n",
    "plt.plot(A[:256], label = 'A')\n",
    "plt.plot(B[:256], label = 'B')\n",
    "plt.legend()"
   ]
  },
  {
   "cell_type": "code",
   "execution_count": null,
   "metadata": {
    "collapsed": false
   },
   "outputs": [],
   "source": [
    "# collect_data('6_2_1_50mV_2', '50mV', 2)\n",
    "\n",
    "A = 0.5*np.genfromtxt('6_2_1_50mV_2_A')/2.**15\n",
    "B = 0.5*np.genfromtxt('6_2_1_50mV_2_B')/2.**15\n",
    "\n",
    "n, bins, edges = plt.hist(A, bins = 20, alpha = 0.5, label = 'A')\n",
    "n, bins, edges = plt.hist(B, bins = 20, alpha = 0.5, label = 'B')\n",
    "plt.legend()\n",
    "\n",
    "plt.figure()\n",
    "plt.plot(A[:256], label = 'A')\n",
    "plt.plot(B[:256], label = 'B')\n",
    "plt.legend()"
   ]
  },
  {
   "cell_type": "code",
   "execution_count": null,
   "metadata": {
    "collapsed": false
   },
   "outputs": [],
   "source": [
    "# collect_data('6_2_1_100mV_2', '100mV', 2)\n",
    "\n",
    "A = 0.5*np.genfromtxt('6_2_1_100mV_2_A')/2.**15\n",
    "B = 0.5*np.genfromtxt('6_2_1_100mV_2_B')/2.**15\n",
    "\n",
    "n, bins, edges = plt.hist(A, bins = 20, alpha = 0.5, label = 'A')\n",
    "n, bins, edges = plt.hist(B, bins = 20, alpha = 0.5, label = 'B')\n",
    "plt.legend()\n",
    "\n",
    "plt.figure()\n",
    "plt.plot(A[:256], label = 'A')\n",
    "plt.plot(B[:256], label = 'B')\n",
    "plt.legend()"
   ]
  },
  {
   "cell_type": "code",
   "execution_count": null,
   "metadata": {
    "collapsed": false
   },
   "outputs": [],
   "source": [
    "# collect_data('6_2_1_50mV_5', '50mV', 5)\n",
    "\n",
    "A = 0.5*np.genfromtxt('6_2_1_50mV_5_A')/2.**15\n",
    "B = 0.5*np.genfromtxt('6_2_1_50mV_5_B')/2.**15\n",
    "\n",
    "n, bins, edges = plt.hist(A, bins = 20, alpha = 0.5, label = 'A')\n",
    "n, bins, edges = plt.hist(B, bins = 20, alpha = 0.5, label = 'B')\n",
    "plt.legend()\n",
    "\n",
    "plt.figure()\n",
    "plt.plot(A[:256], label = 'A')\n",
    "plt.plot(B[:256], label = 'B')\n",
    "plt.legend()"
   ]
  },
  {
   "cell_type": "code",
   "execution_count": null,
   "metadata": {
    "collapsed": false
   },
   "outputs": [],
   "source": [
    "# collect_data('6_2_1_100mV_5', '100mV', 5)\n",
    "\n",
    "A = 0.5*np.genfromtxt('6_2_1_100mV_5_A')/2.**15\n",
    "B = 0.5*np.genfromtxt('6_2_1_100mV_5_B')/2.**15\n",
    "\n",
    "n, bins, edges = plt.hist(A, bins = 20, alpha = 0.5, label = 'A')\n",
    "n, bins, edges = plt.hist(B, bins = 20, alpha = 0.5, label = 'B')\n",
    "plt.legend()\n",
    "\n",
    "plt.figure()\n",
    "plt.plot(A[:256], label = 'A')\n",
    "plt.plot(B[:256], label = 'B')\n",
    "plt.legend()"
   ]
  },
  {
   "cell_type": "code",
   "execution_count": null,
   "metadata": {
    "collapsed": true
   },
   "outputs": [],
   "source": [
    "collect_data?"
   ]
  },
  {
   "cell_type": "code",
   "execution_count": null,
   "metadata": {
    "collapsed": false
   },
   "outputs": [],
   "source": [
    "# collect_data('6_2_3_50mV_1', '50mV', 1)\n",
    "\n",
    "A = 0.5*np.genfromtxt('6_2_3_50mV_1_A')/2.**15\n",
    "B = 0.5*np.genfromtxt('6_2_3_50mV_1_B')/2.**15\n",
    "\n",
    "n, bins, edges = plt.hist(A, bins = 20, alpha = 0.5, label = 'A')\n",
    "n, bins, edges = plt.hist(B, bins = 20, alpha = 0.5, label = 'B')\n",
    "plt.legend()\n",
    "\n",
    "plt.figure()\n",
    "plt.plot(A[:256], label = 'A')\n",
    "plt.plot(B[:256], label = 'B')\n",
    "plt.legend()"
   ]
  },
  {
   "cell_type": "code",
   "execution_count": null,
   "metadata": {
    "collapsed": false
   },
   "outputs": [],
   "source": [
    "# collect_data('6_2_3_50mV_2', '50mV', 2)\n",
    "N = 256\n",
    "vsamp = 62.5/2\n",
    "time = np.arange(-N/2/vsamp, (N/2. - 1)/vsamp)\n",
    "\n",
    "A = 0.5*np.genfromtxt('6_2_3_50mV_2_A')/2.**15\n",
    "B = 0.5*np.genfromtxt('6_2_3_50mV_2_B')/2.**15\n",
    "\n",
    "n, bins, edges = plt.hist(A, bins = 20, alpha = 0.5, label = 'A')\n",
    "n, bins, edges = plt.hist(B, bins = 20, alpha = 0.5, label = 'B')\n",
    "plt.legend()\n",
    "\n",
    "plt.figure()\n",
    "plt.plot(A[:N], label = 'A')\n",
    "plt.plot(B[:N], label = 'B')\n",
    "plt.legend()\n",
    "\n",
    "plt.figure()\n",
    "plt.plot(np.fft.fft(A).real)\n",
    "# plt.plot(np.fft.fft(A).imag)\n",
    "\n",
    "plt.figure()\n",
    "plt.plot(np.fft.fftfreq(len(A)), abs(np.fft.fft(A))**2)"
   ]
  },
  {
   "cell_type": "code",
   "execution_count": null,
   "metadata": {
    "collapsed": false
   },
   "outputs": [],
   "source": [
    "# collect_data('6_2_3_50mV_5', '50mV', 5)\n",
    "N = 512\n",
    "vsamp = 62.5/5\n",
    "time = np.linspace(-N/2./vsamp, (N/2. - 1)/vsamp,N)\n",
    "freq = np.linspace(-vsamp/2, (vsamp/2)*(1-2./N),N)\n",
    "\n",
    "A = 0.5*np.genfromtxt('6_2_3_50mV_5_A')[:N]/2.**15\n",
    "B = 0.5*np.genfromtxt('6_2_3_50mV_5_B')[:N]/2.**15\n",
    "\n",
    "n, bins, edges = plt.hist(A, bins = 20, alpha = 0.5, label = 'A')\n",
    "n, bins, edges = plt.hist(B, bins = 20, alpha = 0.5, label = 'B')\n",
    "plt.legend()\n",
    "\n",
    "plt.figure()\n",
    "plt.plot(time, A, label = 'A')\n",
    "plt.plot(time, B, label = 'B')\n",
    "plt.legend()\n",
    "\n",
    "plt.figure()\n",
    "plt.plot(freq, np.fft.fft(A).real)\n",
    "# plt.plot(np.fft.fft(A).imag)\n",
    "\n",
    "plt.figure()\n",
    "plt.plot(freq, abs(np.fft.fft(A))**2)\n",
    "# plt.plot(np.fft.fftfreq(len(B)), abs(np.fft.fft(B))**2)"
   ]
  },
  {
   "cell_type": "code",
   "execution_count": null,
   "metadata": {
    "collapsed": false
   },
   "outputs": [],
   "source": [
    "d = 10\n",
    "# collect_data('6_2_3_50mV_10', '50mV', d)\n",
    "N = 512\n",
    "vsamp = 62.5/d\n",
    "time = np.linspace(-N/2./vsamp, (N/2. - 1)/vsamp,N)\n",
    "freq = np.linspace(-vsamp/2, (vsamp/2)*(1-2./N),N)\n",
    "\n",
    "A = 0.5*np.genfromtxt('6_2_3_50mV_10_A')[:N]/2.**15\n",
    "B = 0.5*np.genfromtxt('6_2_3_50mV_10_B')[:N]/2.**15\n",
    "\n",
    "n, bins, edges = plt.hist(A, bins = 20, alpha = 0.5, label = 'A')\n",
    "n, bins, edges = plt.hist(B, bins = 20, alpha = 0.5, label = 'B')\n",
    "plt.legend()\n",
    "\n",
    "plt.figure()\n",
    "plt.plot(time, A, label = 'A')\n",
    "plt.plot(time, B, label = 'B')\n",
    "plt.legend()\n",
    "\n",
    "plt.figure()\n",
    "plt.plot(freq, np.fft.fft(A).real)\n",
    "# plt.plot(np.fft.fft(A).imag)\n",
    "\n",
    "plt.figure()\n",
    "plt.plot(freq, abs(np.fft.fft(A))**2)\n",
    "# plt.plot(np.fft.fftfreq(len(B)), abs(np.fft.fft(B))**2)"
   ]
  },
  {
   "cell_type": "code",
   "execution_count": null,
   "metadata": {
    "collapsed": false
   },
   "outputs": [],
   "source": [
    "d = 13\n",
    "# collect_data('6_2_3_50mV_13', '50mV', d)\n",
    "N = 512\n",
    "vsamp = 62.5/d\n",
    "time = np.linspace(-N/2./vsamp, (N/2. - 1)/vsamp,N)\n",
    "freq = np.linspace(-vsamp/2, (vsamp/2)*(1-2./N),N)\n",
    "\n",
    "A = 0.5*np.genfromtxt('6_2_3_50mV_13_A')[:N]/2.**15\n",
    "B = 0.5*np.genfromtxt('6_2_3_50mV_13_B')[:N]/2.**15\n",
    "\n",
    "n, bins, edges = plt.hist(A, bins = 20, alpha = 0.5, label = 'A')\n",
    "n, bins, edges = plt.hist(B, bins = 20, alpha = 0.5, label = 'B')\n",
    "plt.legend()\n",
    "\n",
    "plt.figure()\n",
    "plt.plot(time, A, label = 'A')\n",
    "plt.plot(time, B, label = 'B')\n",
    "plt.legend()\n",
    "\n",
    "plt.figure()\n",
    "plt.plot(freq, np.fft.fft(A).real)\n",
    "# plt.plot(np.fft.fft(A).imag)\n",
    "\n",
    "plt.figure()\n",
    "plt.plot(freq, abs(np.fft.fft(A))**2)\n",
    "# plt.plot(np.fft.fftfreq(len(B)), abs(np.fft.fft(B))**2)"
   ]
  },
  {
   "cell_type": "code",
   "execution_count": null,
   "metadata": {
    "collapsed": false
   },
   "outputs": [],
   "source": [
    "# test is now 1422 instead of 1421\n",
    "d = 13\n",
    "# collect_data('test_6_2_3_50mV_13', '50mV', d)\n",
    "N = 512\n",
    "vsamp = 62.5/d\n",
    "time = np.linspace((-N/2.)/vsamp, (N/2. - 1)/vsamp,N)\n",
    "freq = np.linspace(-vsamp/2, (vsamp/2)*(1-2./N),N)\n",
    "\n",
    "A = 0.5*np.genfromtxt('test_6_2_3_50mV_13_A')[:N]/2.**15\n",
    "B = 0.5*np.genfromtxt('test_6_2_3_50mV_13_B')[:N]/2.**15\n",
    "\n",
    "n, bins, edges = plt.hist(A, bins = 20, alpha = 0.5, label = 'A')\n",
    "n, bins, edges = plt.hist(B, bins = 20, alpha = 0.5, label = 'B')\n",
    "plt.legend()\n",
    "\n",
    "plt.figure()\n",
    "plt.plot(time, A, label = 'A')\n",
    "plt.plot(time, B, label = 'B')\n",
    "plt.legend()\n",
    "\n",
    "plt.figure()\n",
    "plt.plot(freq, np.fft.fft(A).real)\n",
    "# plt.plot(np.fft.fft(A).imag)\n",
    "\n",
    "plt.figure()\n",
    "plt.plot(freq, abs(np.fft.fft(A))**2)\n",
    "# plt.plot(np.fft.fftfreq(len(B)), abs(np.fft.fft(B))**2)"
   ]
  },
  {
   "cell_type": "code",
   "execution_count": null,
   "metadata": {
    "collapsed": false
   },
   "outputs": [],
   "source": [
    "not isinstance(True, ndarray)\n",
    "\n",
    "type(np.linspace(0,5,3))"
   ]
  },
  {
   "cell_type": "code",
   "execution_count": 22,
   "metadata": {
    "collapsed": false
   },
   "outputs": [
    {
     "data": {
      "text/plain": [
       "80000"
      ]
     },
     "execution_count": 22,
     "metadata": {},
     "output_type": "execute_result"
    }
   ],
   "source": [
    "len(ugradio.pico.capture_data('50mV', 1, nblocks=5))"
   ]
  },
  {
   "cell_type": "code",
   "execution_count": 18,
   "metadata": {
    "collapsed": false
   },
   "outputs": [
    {
     "data": {
      "text/plain": [
       "(array([-256,  512,  512, ...,  256,    0,    0], dtype=int16),\n",
       " array([-512,    0,    0, ...,  768,  256,    0], dtype=int16),\n",
       " [(-256-512j),\n",
       "  (512+0j),\n",
       "  (512+0j),\n",
       "  (256+0j),\n",
       "  (512+512j),\n",
       "  (768+768j),\n",
       "  (768+512j),\n",
       "  (-256+0j),\n",
       "  (-512+512j),\n",
       "  (-256+1024j),\n",
       "  (-768+768j),\n",
       "  (512+512j),\n",
       "  (-512-256j),\n",
       "  0j,\n",
       "  (512+256j),\n",
       "  (768+256j),\n",
       "  (512+0j),\n",
       "  512j,\n",
       "  768j,\n",
       "  (512+256j),\n",
       "  0j,\n",
       "  (256+0j),\n",
       "  (512+768j),\n",
       "  (512+0j),\n",
       "  (256+0j),\n",
       "  -256j,\n",
       "  (1024+0j),\n",
       "  (256+0j),\n",
       "  0j,\n",
       "  0j,\n",
       "  (256-256j),\n",
       "  (256-256j),\n",
       "  (768-256j),\n",
       "  (512+0j),\n",
       "  (256+0j),\n",
       "  (512+0j),\n",
       "  (512+768j),\n",
       "  (1024-256j),\n",
       "  (256-256j),\n",
       "  (512+256j),\n",
       "  (768+0j),\n",
       "  (768+256j),\n",
       "  (768+256j),\n",
       "  (1024+1024j),\n",
       "  (1280+1024j),\n",
       "  (768+1024j),\n",
       "  512j,\n",
       "  (-256+1280j),\n",
       "  512j,\n",
       "  (1024-256j),\n",
       "  (256+512j),\n",
       "  (768+1024j),\n",
       "  (768+1280j),\n",
       "  1024j,\n",
       "  (256+1024j),\n",
       "  (256+1280j),\n",
       "  (512+768j),\n",
       "  512j,\n",
       "  512j,\n",
       "  (256+1024j),\n",
       "  512j,\n",
       "  (512-256j),\n",
       "  512j,\n",
       "  (256+1024j),\n",
       "  768j,\n",
       "  (-512+768j),\n",
       "  (256+512j),\n",
       "  (256+512j),\n",
       "  (256+256j),\n",
       "  (-256+512j),\n",
       "  (256+256j),\n",
       "  (-256+512j),\n",
       "  (-512+0j),\n",
       "  0j,\n",
       "  256j,\n",
       "  -256j,\n",
       "  512j,\n",
       "  1024j,\n",
       "  (512+0j),\n",
       "  256j,\n",
       "  (-512+512j),\n",
       "  (-768+768j),\n",
       "  (-256+256j),\n",
       "  (-512-256j),\n",
       "  -256j,\n",
       "  0j,\n",
       "  (512+256j),\n",
       "  (256+0j),\n",
       "  (-768+1024j),\n",
       "  (-512+512j),\n",
       "  0j,\n",
       "  (-512+0j),\n",
       "  (256-256j),\n",
       "  0j,\n",
       "  (256+0j),\n",
       "  (-256+0j),\n",
       "  (256+1024j),\n",
       "  (768+512j),\n",
       "  (256+256j),\n",
       "  (768+256j),\n",
       "  (-256+768j),\n",
       "  (256+0j),\n",
       "  (256+0j),\n",
       "  (512-512j),\n",
       "  (1024+0j),\n",
       "  0j,\n",
       "  (256+0j),\n",
       "  256j,\n",
       "  (256-256j),\n",
       "  0j,\n",
       "  (256+0j),\n",
       "  (512+256j),\n",
       "  (512+0j),\n",
       "  (1024-256j),\n",
       "  (768+256j),\n",
       "  (1024+0j),\n",
       "  (256-256j),\n",
       "  (-1024+0j),\n",
       "  (256+512j),\n",
       "  (512+0j),\n",
       "  (1024+0j),\n",
       "  (768+512j),\n",
       "  (1024+512j),\n",
       "  (1024+1024j),\n",
       "  512j,\n",
       "  (256+256j),\n",
       "  768j,\n",
       "  (1024+0j),\n",
       "  (1024+0j),\n",
       "  (768+1024j),\n",
       "  (512+1280j),\n",
       "  (256+768j),\n",
       "  (256+768j),\n",
       "  (256+256j),\n",
       "  (256+768j),\n",
       "  (256+512j),\n",
       "  (-256+256j),\n",
       "  (256+512j),\n",
       "  (-256+512j),\n",
       "  (768-256j),\n",
       "  (256+512j),\n",
       "  1024j,\n",
       "  1024j,\n",
       "  (-256+768j),\n",
       "  (512+512j),\n",
       "  (512+512j),\n",
       "  768j,\n",
       "  (256+768j),\n",
       "  (256+1280j),\n",
       "  (512+768j),\n",
       "  768j,\n",
       "  (256+256j),\n",
       "  (-256+768j),\n",
       "  (-256+768j),\n",
       "  (-256+512j),\n",
       "  1024j,\n",
       "  (1024+768j),\n",
       "  (1024+512j),\n",
       "  (-256+768j),\n",
       "  1024j,\n",
       "  256j,\n",
       "  -256j,\n",
       "  -256j,\n",
       "  256j,\n",
       "  (-256+512j),\n",
       "  (-256+0j),\n",
       "  (-512+256j),\n",
       "  (-768+1024j),\n",
       "  -256j,\n",
       "  (-256-256j),\n",
       "  (-256+0j),\n",
       "  (-256+512j),\n",
       "  (256-256j),\n",
       "  -256j,\n",
       "  0j,\n",
       "  512j,\n",
       "  (-512+512j),\n",
       "  -512j,\n",
       "  (-512+256j),\n",
       "  768j,\n",
       "  -256j,\n",
       "  (512-256j),\n",
       "  (512+256j),\n",
       "  512j,\n",
       "  0j,\n",
       "  (512+0j),\n",
       "  (256+0j),\n",
       "  (-512+0j),\n",
       "  (-512+0j),\n",
       "  (256+256j),\n",
       "  (256+256j),\n",
       "  (512+256j),\n",
       "  (768+0j),\n",
       "  (512+512j),\n",
       "  0j,\n",
       "  (-1024-256j),\n",
       "  (-512+512j),\n",
       "  (256+0j),\n",
       "  (512-512j),\n",
       "  (512-256j),\n",
       "  (512+256j),\n",
       "  (768+768j),\n",
       "  768j,\n",
       "  (512+256j),\n",
       "  (256+1024j),\n",
       "  (768+768j),\n",
       "  (1024+0j),\n",
       "  (512+0j),\n",
       "  (768+768j),\n",
       "  (768+0j),\n",
       "  (512+512j),\n",
       "  (512+512j),\n",
       "  (256+1024j),\n",
       "  (512+768j),\n",
       "  (-256+256j),\n",
       "  (768+0j),\n",
       "  (512+512j),\n",
       "  512j,\n",
       "  (1024+256j),\n",
       "  (256+1024j),\n",
       "  (256+1280j),\n",
       "  (-256+1024j),\n",
       "  (256+256j),\n",
       "  0j,\n",
       "  (256+768j),\n",
       "  (256+0j),\n",
       "  (768+512j),\n",
       "  (1024+512j),\n",
       "  (256+0j),\n",
       "  (256+256j),\n",
       "  512j,\n",
       "  768j,\n",
       "  256j,\n",
       "  256j,\n",
       "  (512+768j),\n",
       "  (512+512j),\n",
       "  512j,\n",
       "  (-256+768j),\n",
       "  (-256+1024j),\n",
       "  256j,\n",
       "  0j,\n",
       "  0j,\n",
       "  (256+768j),\n",
       "  (256+256j),\n",
       "  0j,\n",
       "  (-1024+512j),\n",
       "  (-512+256j),\n",
       "  (-512-256j),\n",
       "  (-256+256j),\n",
       "  256j,\n",
       "  (256+256j),\n",
       "  (256-768j),\n",
       "  -256j,\n",
       "  -256j,\n",
       "  768j,\n",
       "  256j,\n",
       "  512j,\n",
       "  (-512+256j),\n",
       "  (-768+0j),\n",
       "  (-256-512j),\n",
       "  256j,\n",
       "  (256+256j),\n",
       "  (512+256j),\n",
       "  (512+256j),\n",
       "  (512+512j),\n",
       "  (-768+512j),\n",
       "  (-768+768j),\n",
       "  (256+1024j),\n",
       "  (256+0j),\n",
       "  (256+512j),\n",
       "  (512+0j),\n",
       "  (256+512j),\n",
       "  512j,\n",
       "  (-1024+0j),\n",
       "  (-256+0j),\n",
       "  (256+256j),\n",
       "  (768-256j),\n",
       "  (768+0j),\n",
       "  768j,\n",
       "  (256+1024j),\n",
       "  512j,\n",
       "  0j,\n",
       "  (256+0j),\n",
       "  (-512+512j),\n",
       "  (768+512j),\n",
       "  (768+0j),\n",
       "  (1024+256j),\n",
       "  (768+512j),\n",
       "  (512+256j),\n",
       "  (256+0j),\n",
       "  1024j,\n",
       "  (256+768j),\n",
       "  (1024+256j),\n",
       "  (1024+0j),\n",
       "  (512+256j),\n",
       "  512j,\n",
       "  (1024+256j),\n",
       "  (1536+256j),\n",
       "  (768+1280j),\n",
       "  512j,\n",
       "  (256+512j),\n",
       "  256j,\n",
       "  (256+1024j),\n",
       "  (256+512j),\n",
       "  (768+512j),\n",
       "  (768+256j),\n",
       "  256j,\n",
       "  512j,\n",
       "  (-256+512j),\n",
       "  768j,\n",
       "  (768+0j),\n",
       "  (768+0j),\n",
       "  (768+512j),\n",
       "  (1024+1024j),\n",
       "  (256+768j),\n",
       "  1024j,\n",
       "  1280j,\n",
       "  768j,\n",
       "  (-256+0j),\n",
       "  (512+0j),\n",
       "  (768+768j),\n",
       "  (768+512j),\n",
       "  (768+0j),\n",
       "  512j,\n",
       "  (-1024+1280j),\n",
       "  (-512+512j),\n",
       "  (256+256j),\n",
       "  (768+768j),\n",
       "  512j,\n",
       "  (256+0j),\n",
       "  (-256-512j),\n",
       "  (-256+512j),\n",
       "  256j,\n",
       "  0j,\n",
       "  (256-256j),\n",
       "  (-768+256j),\n",
       "  (-1024+256j),\n",
       "  (-768+0j),\n",
       "  (256-512j),\n",
       "  (256+0j),\n",
       "  0j,\n",
       "  0j,\n",
       "  (-256+0j),\n",
       "  (-512+768j),\n",
       "  (-1024+512j),\n",
       "  512j,\n",
       "  (768+256j),\n",
       "  (256+256j),\n",
       "  -256j,\n",
       "  0j,\n",
       "  (-256+0j),\n",
       "  (-512+0j),\n",
       "  (-256-256j),\n",
       "  -256j,\n",
       "  -256j,\n",
       "  (256+0j),\n",
       "  (768+0j),\n",
       "  (256+256j),\n",
       "  (-256+256j),\n",
       "  (-768+256j),\n",
       "  (-256-256j),\n",
       "  (-768+0j),\n",
       "  0j,\n",
       "  (768-512j),\n",
       "  (256-256j),\n",
       "  256j,\n",
       "  256j,\n",
       "  (512+0j),\n",
       "  512j,\n",
       "  (768+512j),\n",
       "  (1024+512j),\n",
       "  (256-256j),\n",
       "  (768+0j),\n",
       "  768j,\n",
       "  (256+512j),\n",
       "  (1024-768j),\n",
       "  (1024+512j),\n",
       "  (512+1024j),\n",
       "  768j,\n",
       "  (512+768j),\n",
       "  (256+256j),\n",
       "  (512+768j),\n",
       "  (1024+256j),\n",
       "  (1280-256j),\n",
       "  (512+512j),\n",
       "  (-256+512j),\n",
       "  512j,\n",
       "  (-256+512j),\n",
       "  512j,\n",
       "  (256+256j),\n",
       "  (512+512j),\n",
       "  (768+1024j),\n",
       "  (768+768j),\n",
       "  (768+768j),\n",
       "  512j,\n",
       "  (-256+1024j),\n",
       "  512j,\n",
       "  512j,\n",
       "  (512+256j),\n",
       "  (768+1024j),\n",
       "  (1024+256j),\n",
       "  (512+512j),\n",
       "  (256+1536j),\n",
       "  (256+1280j),\n",
       "  (768+1024j),\n",
       "  (256+768j),\n",
       "  256j,\n",
       "  (256+512j),\n",
       "  (256+512j),\n",
       "  (-512+0j),\n",
       "  512j,\n",
       "  768j,\n",
       "  (256-256j),\n",
       "  -512j,\n",
       "  (-256+768j),\n",
       "  512j,\n",
       "  (256+0j),\n",
       "  0j,\n",
       "  0j,\n",
       "  (256+256j),\n",
       "  0j,\n",
       "  (-512+512j),\n",
       "  768j,\n",
       "  (-512+0j),\n",
       "  (256-512j),\n",
       "  256j,\n",
       "  (256+256j),\n",
       "  (256+1024j),\n",
       "  (256+512j),\n",
       "  (-256+768j),\n",
       "  (-256+0j),\n",
       "  (-512+0j),\n",
       "  (-512+0j),\n",
       "  (256+0j),\n",
       "  (768+0j),\n",
       "  0j,\n",
       "  512j,\n",
       "  (-256+1024j),\n",
       "  (-256+768j),\n",
       "  (-512+512j),\n",
       "  (-768+0j),\n",
       "  (256-512j),\n",
       "  -1024j,\n",
       "  (-256-512j),\n",
       "  (-256+0j),\n",
       "  (512+256j),\n",
       "  0j,\n",
       "  (-256+0j),\n",
       "  (256+0j),\n",
       "  256j,\n",
       "  -512j,\n",
       "  0j,\n",
       "  256j,\n",
       "  (768-256j),\n",
       "  (768-512j),\n",
       "  256j,\n",
       "  512j,\n",
       "  (256+768j),\n",
       "  512j,\n",
       "  (-256+768j),\n",
       "  (512+512j),\n",
       "  (768+0j),\n",
       "  (1280+256j),\n",
       "  (512+768j),\n",
       "  (256+1024j),\n",
       "  (512+256j),\n",
       "  (-256+256j),\n",
       "  (512+768j),\n",
       "  (256+1024j),\n",
       "  (512+768j),\n",
       "  (1024+768j),\n",
       "  (1024+1024j),\n",
       "  (-256+1024j),\n",
       "  (-512+768j),\n",
       "  (1024+256j),\n",
       "  (512+768j),\n",
       "  (768+512j),\n",
       "  (256+256j),\n",
       "  (512+768j),\n",
       "  (768+0j),\n",
       "  (768+1024j),\n",
       "  (256+1024j),\n",
       "  (768+1024j),\n",
       "  (768+256j),\n",
       "  (256+512j),\n",
       "  1024j,\n",
       "  (1024+0j),\n",
       "  (256+512j),\n",
       "  0j,\n",
       "  (512+768j),\n",
       "  256j,\n",
       "  (512+512j),\n",
       "  (-256+1536j),\n",
       "  (256+2304j),\n",
       "  (256+1792j),\n",
       "  (768+256j),\n",
       "  (256+0j),\n",
       "  (512-256j),\n",
       "  (512+0j),\n",
       "  (-256-256j),\n",
       "  1024j,\n",
       "  (-512+1280j),\n",
       "  1792j,\n",
       "  (-256+1536j),\n",
       "  (256+1024j),\n",
       "  (1024+256j),\n",
       "  (256-512j),\n",
       "  (256-1280j),\n",
       "  (-256-768j),\n",
       "  -256j,\n",
       "  (-256-256j),\n",
       "  (-256-256j),\n",
       "  (256-256j),\n",
       "  -256j,\n",
       "  (256-768j),\n",
       "  (-256-1024j),\n",
       "  (-512-256j),\n",
       "  -512j,\n",
       "  (-1024-256j),\n",
       "  -1024j,\n",
       "  (512-1280j),\n",
       "  (-512-512j),\n",
       "  (-256+256j),\n",
       "  512j,\n",
       "  (512+1024j),\n",
       "  (-512+768j),\n",
       "  (-256+1792j),\n",
       "  (512+1280j),\n",
       "  1280j,\n",
       "  (256+1024j),\n",
       "  (-256+768j),\n",
       "  768j,\n",
       "  0j,\n",
       "  (256+512j),\n",
       "  (256+1280j),\n",
       "  1024j,\n",
       "  512j,\n",
       "  (-512+0j),\n",
       "  (-256+512j),\n",
       "  (-256-512j),\n",
       "  (512-1280j),\n",
       "  (256-768j),\n",
       "  -256j,\n",
       "  -1024j,\n",
       "  (-512-1024j),\n",
       "  -512j,\n",
       "  0j,\n",
       "  (-256-512j),\n",
       "  (512-256j),\n",
       "  (1024-512j),\n",
       "  (512+256j),\n",
       "  256j,\n",
       "  (512+256j),\n",
       "  (256+1280j),\n",
       "  (512+768j),\n",
       "  (512+512j),\n",
       "  (512+768j),\n",
       "  (1536+1792j),\n",
       "  (1280+1024j),\n",
       "  (1024+1792j),\n",
       "  (512+1792j),\n",
       "  (256+1280j),\n",
       "  (256+1024j),\n",
       "  (512+1280j),\n",
       "  (1024+1024j),\n",
       "  (1024+768j),\n",
       "  (256+256j),\n",
       "  (256+512j),\n",
       "  (256+512j),\n",
       "  (768+512j),\n",
       "  (512+512j),\n",
       "  (256+1024j),\n",
       "  (-512+768j),\n",
       "  0j,\n",
       "  (256+0j),\n",
       "  (256+256j),\n",
       "  (1280+256j),\n",
       "  (512+0j),\n",
       "  (512+0j),\n",
       "  (-256+512j),\n",
       "  (-256+512j),\n",
       "  (-256-512j),\n",
       "  (256+256j),\n",
       "  (768+1024j),\n",
       "  (256+768j),\n",
       "  (256+256j),\n",
       "  512j,\n",
       "  1024j,\n",
       "  1024j,\n",
       "  (-256+512j),\n",
       "  512j,\n",
       "  (-256+768j),\n",
       "  (256+512j),\n",
       "  (256+768j),\n",
       "  (256+768j),\n",
       "  1024j,\n",
       "  (-512+768j),\n",
       "  (-512+512j),\n",
       "  -256j,\n",
       "  -256j,\n",
       "  0j,\n",
       "  0j,\n",
       "  (768+0j),\n",
       "  (-512+0j),\n",
       "  (256+512j),\n",
       "  (256+1024j),\n",
       "  256j,\n",
       "  (-256+256j),\n",
       "  (-256-512j),\n",
       "  0j,\n",
       "  (-512-768j),\n",
       "  (256-768j),\n",
       "  (512+0j),\n",
       "  0j,\n",
       "  (-256+512j),\n",
       "  (-1024-512j),\n",
       "  (-768+0j),\n",
       "  (-256+768j),\n",
       "  (256+0j),\n",
       "  (512-256j),\n",
       "  (1024+512j),\n",
       "  256j,\n",
       "  (-512+256j),\n",
       "  256j,\n",
       "  (-256+512j),\n",
       "  256j,\n",
       "  (512+0j),\n",
       "  (768-256j),\n",
       "  (1024+512j),\n",
       "  512j,\n",
       "  (256+256j),\n",
       "  (1024+0j),\n",
       "  (-256+256j),\n",
       "  (512-256j),\n",
       "  (768-256j),\n",
       "  (1024+512j),\n",
       "  (1280+512j),\n",
       "  (1024+256j),\n",
       "  (512+768j),\n",
       "  (768+256j),\n",
       "  (1024+768j),\n",
       "  (256+0j),\n",
       "  (1024+512j),\n",
       "  (768+0j),\n",
       "  (-256+0j),\n",
       "  (256+0j),\n",
       "  (768+256j),\n",
       "  (1024+768j),\n",
       "  (1024+768j),\n",
       "  (256+512j),\n",
       "  (-256+1024j),\n",
       "  (-512+512j),\n",
       "  256j,\n",
       "  256j,\n",
       "  (1024+768j),\n",
       "  (512+512j),\n",
       "  (768-256j),\n",
       "  (512+512j),\n",
       "  768j,\n",
       "  1024j,\n",
       "  256j,\n",
       "  (512+512j),\n",
       "  512j,\n",
       "  (768+256j),\n",
       "  (1536+512j),\n",
       "  (512+1024j),\n",
       "  (256+768j),\n",
       "  512j,\n",
       "  0j,\n",
       "  (768+768j),\n",
       "  (256+256j),\n",
       "  (1024+768j),\n",
       "  (768+256j),\n",
       "  256j,\n",
       "  (-512+512j),\n",
       "  (-768+512j),\n",
       "  (-256+768j),\n",
       "  256j,\n",
       "  (-256+512j),\n",
       "  (-256+512j),\n",
       "  (256-256j),\n",
       "  0j,\n",
       "  (-512+256j),\n",
       "  (256+1024j),\n",
       "  1280j,\n",
       "  (-512+512j),\n",
       "  (-768-256j),\n",
       "  (-512+256j),\n",
       "  (-256+512j),\n",
       "  (256-256j),\n",
       "  (1024+0j),\n",
       "  (512+0j),\n",
       "  768j,\n",
       "  (-256+256j),\n",
       "  (-256+0j),\n",
       "  (-256+768j),\n",
       "  (-256+768j),\n",
       "  (256+256j),\n",
       "  (512+512j),\n",
       "  256j,\n",
       "  256j,\n",
       "  (256+256j),\n",
       "  (-256+512j),\n",
       "  (-768+256j),\n",
       "  512j,\n",
       "  (-256+0j),\n",
       "  -512j,\n",
       "  (256+512j),\n",
       "  256j,\n",
       "  (-256-256j),\n",
       "  (-512+512j),\n",
       "  (-1024+0j),\n",
       "  (-256+0j),\n",
       "  (768-256j),\n",
       "  (256+0j),\n",
       "  0j,\n",
       "  0j,\n",
       "  (512+0j),\n",
       "  (512+256j),\n",
       "  (768+256j),\n",
       "  (256+0j),\n",
       "  (256+256j),\n",
       "  (512+0j),\n",
       "  0j,\n",
       "  (256+256j),\n",
       "  (768+512j),\n",
       "  (1024+768j),\n",
       "  (1280+256j),\n",
       "  (256+512j),\n",
       "  (-256+768j),\n",
       "  768j,\n",
       "  (256+256j),\n",
       "  (512+512j),\n",
       "  (256+256j),\n",
       "  (512+256j),\n",
       "  (1024+0j),\n",
       "  768j,\n",
       "  (512+1024j),\n",
       "  768j,\n",
       "  512j,\n",
       "  (256+512j),\n",
       "  (256+512j),\n",
       "  (1792+0j),\n",
       "  (256+256j),\n",
       "  (-256+768j),\n",
       "  768j,\n",
       "  (-256+0j),\n",
       "  (256+512j),\n",
       "  (256+1024j),\n",
       "  (768+768j),\n",
       "  (768+512j),\n",
       "  (256+512j),\n",
       "  (512+768j),\n",
       "  (768+512j),\n",
       "  (512+768j),\n",
       "  (768+768j),\n",
       "  512j,\n",
       "  (256+256j),\n",
       "  (-512+0j),\n",
       "  (256+256j),\n",
       "  (256+512j),\n",
       "  (256+256j),\n",
       "  (512+512j),\n",
       "  768j,\n",
       "  256j,\n",
       "  256j,\n",
       "  (-256+512j),\n",
       "  (-512+256j),\n",
       "  (512-512j),\n",
       "  (-256-256j),\n",
       "  (256-256j),\n",
       "  768j,\n",
       "  512j,\n",
       "  (-768+512j),\n",
       "  (-256+1024j),\n",
       "  (512+256j),\n",
       "  (512-512j),\n",
       "  (256+512j),\n",
       "  512j,\n",
       "  0j,\n",
       "  -256j,\n",
       "  (-768+256j),\n",
       "  (-256+512j),\n",
       "  (512+512j),\n",
       "  (256+0j),\n",
       "  (256+0j),\n",
       "  (-256+256j),\n",
       "  (256-256j),\n",
       "  -512j,\n",
       "  (-256-256j),\n",
       "  (-256+256j),\n",
       "  (-256-256j),\n",
       "  (-512+0j),\n",
       "  (-768-256j),\n",
       "  -512j,\n",
       "  (-256+0j),\n",
       "  (256+0j),\n",
       "  (512+768j),\n",
       "  (-256+0j),\n",
       "  (512+0j),\n",
       "  (-512+0j),\n",
       "  (-256+0j),\n",
       "  (768+256j),\n",
       "  512j,\n",
       "  (256+1024j),\n",
       "  (768+0j),\n",
       "  (1024+768j),\n",
       "  (-256+1024j),\n",
       "  (256+512j),\n",
       "  (-256+512j),\n",
       "  (-512+256j),\n",
       "  (256+256j),\n",
       "  (512+256j),\n",
       "  (1792-256j),\n",
       "  (256+256j),\n",
       "  (256+1024j),\n",
       "  (-512+512j),\n",
       "  0j,\n",
       "  (-256+512j),\n",
       "  768j,\n",
       "  (1024+512j),\n",
       "  (1024+512j),\n",
       "  (-256+256j),\n",
       "  (256+512j),\n",
       "  (256+256j),\n",
       "  (768+0j),\n",
       "  (512+768j),\n",
       "  (512+1024j),\n",
       "  (256+768j),\n",
       "  (768+0j),\n",
       "  (1024+256j),\n",
       "  (1024+768j),\n",
       "  (768+1024j),\n",
       "  (768+1024j),\n",
       "  (1024+768j),\n",
       "  (1024+512j),\n",
       "  (256+0j),\n",
       "  (512+256j),\n",
       "  (256+512j),\n",
       "  (768+512j),\n",
       "  (256+512j),\n",
       "  (768+512j),\n",
       "  (768+768j),\n",
       "  (256+512j),\n",
       "  (-256+768j),\n",
       "  (-256+512j),\n",
       "  (512+0j),\n",
       "  (1024-512j),\n",
       "  (512+0j),\n",
       "  (768+256j),\n",
       "  512j,\n",
       "  (-512+256j),\n",
       "  (-1024+512j),\n",
       "  1024j,\n",
       "  (512-256j),\n",
       "  (768-256j),\n",
       "  (1024-256j),\n",
       "  (256+256j),\n",
       "  (512+0j),\n",
       "  -256j,\n",
       "  (-512+0j),\n",
       "  (256+1024j),\n",
       "  (256+256j),\n",
       "  256j,\n",
       "  1280j,\n",
       "  (256+1024j),\n",
       "  0j,\n",
       "  256j,\n",
       "  (256+256j),\n",
       "  (-256+512j),\n",
       "  (-256-256j),\n",
       "  -512j,\n",
       "  (-512-256j),\n",
       "  256j,\n",
       "  (-256+0j),\n",
       "  0j,\n",
       "  (-256+768j),\n",
       "  (-512+256j),\n",
       "  0j,\n",
       "  -256j,\n",
       "  (-512+0j),\n",
       "  (-256+0j),\n",
       "  -256j,\n",
       "  (256+512j),\n",
       "  (512+0j),\n",
       "  (-256+256j),\n",
       "  (-256+512j),\n",
       "  (-512+512j),\n",
       "  (-512+0j),\n",
       "  (256-256j),\n",
       "  (768+0j),\n",
       "  (1024+512j),\n",
       "  (768-256j),\n",
       "  256j,\n",
       "  (-256+512j),\n",
       "  (-256+512j),\n",
       "  (-256+768j),\n",
       "  1024j,\n",
       "  (256+1024j),\n",
       "  (256+768j),\n",
       "  (-256+0j),\n",
       "  (256+0j),\n",
       "  1024j,\n",
       "  0j,\n",
       "  (-256+256j),\n",
       "  (256+1024j),\n",
       "  (256+768j),\n",
       "  0j,\n",
       "  (512+0j),\n",
       "  (256+768j),\n",
       "  1280j,\n",
       "  (256+768j),\n",
       "  (512+512j),\n",
       "  (1024+1024j),\n",
       "  (512+1024j),\n",
       "  (768+0j),\n",
       "  (512+512j),\n",
       "  (768+768j),\n",
       "  (256+768j),\n",
       "  (1024+512j),\n",
       "  (1024+512j),\n",
       "  (512+1024j),\n",
       "  (-256+1024j),\n",
       "  (-256+512j),\n",
       "  (512+256j),\n",
       "  (1280+256j),\n",
       "  (1024+512j),\n",
       "  (1024+512j),\n",
       "  (512+768j),\n",
       "  768j,\n",
       "  (-768+0j),\n",
       "  1024j,\n",
       "  (1024+768j),\n",
       "  (768+0j),\n",
       "  (1024-256j),\n",
       "  (512+0j),\n",
       "  256j,\n",
       "  0j,\n",
       "  256j,\n",
       "  (512+512j),\n",
       "  (512+1024j),\n",
       "  (512+256j),\n",
       "  (512+0j),\n",
       "  (512+0j),\n",
       "  256j,\n",
       "  (512-256j),\n",
       "  (512+256j),\n",
       "  (256+768j),\n",
       "  (256+256j),\n",
       "  (768+256j),\n",
       "  (512+0j),\n",
       "  (256+768j),\n",
       "  256j,\n",
       "  -256j,\n",
       "  0j,\n",
       "  (-512+0j),\n",
       "  0j,\n",
       "  0j,\n",
       "  256j,\n",
       "  (-512+0j),\n",
       "  0j,\n",
       "  (256-768j),\n",
       "  (512+0j),\n",
       "  (512+256j),\n",
       "  (-512-256j),\n",
       "  (-512+0j),\n",
       "  (-512+256j),\n",
       "  (-256+0j),\n",
       "  256j,\n",
       "  (1024+1024j),\n",
       "  (1024+256j),\n",
       "  (-512-256j),\n",
       "  (256+256j),\n",
       "  (-512+512j),\n",
       "  (-256+768j),\n",
       "  (-256+1024j),\n",
       "  (256+1280j),\n",
       "  (256+768j),\n",
       "  (768+0j),\n",
       "  -256j,\n",
       "  0j,\n",
       "  (-768+256j),\n",
       "  (-256+0j),\n",
       "  (256-256j),\n",
       "  (512+256j),\n",
       "  512j,\n",
       "  (512+256j),\n",
       "  256j,\n",
       "  (-256+512j),\n",
       "  (-256+512j),\n",
       "  256j,\n",
       "  (256+0j),\n",
       "  (512+512j),\n",
       "  512j,\n",
       "  (768+256j),\n",
       "  (1024+0j),\n",
       "  (512+256j),\n",
       "  (256+768j),\n",
       "  (1024+768j),\n",
       "  (512+768j),\n",
       "  ...])"
      ]
     },
     "execution_count": 18,
     "metadata": {},
     "output_type": "execute_result"
    }
   ],
   "source": [
    "d = 2\n",
    "# collect_data('test_6_2_3_50mV_13', '50mV', d)\n",
    "N = 512\n",
    "vsamp = 62.5/d\n",
    "time = np.linspace((-N/2.)/vsamp, (N/2. - 1)/vsamp,N)\n",
    "freq = np.linspace(-vsamp/2, (vsamp/2)*(1-2./N),N)\n",
    "\n",
    "\n",
    "make_complex('50mV', 2)"
   ]
  },
  {
   "cell_type": "code",
   "execution_count": 23,
   "metadata": {
    "collapsed": true
   },
   "outputs": [],
   "source": [
    "x = np.array([1,2,3,4])"
   ]
  },
  {
   "cell_type": "code",
   "execution_count": 16,
   "metadata": {
    "collapsed": false
   },
   "outputs": [],
   "source": [
    "def make_complex(v, div, arrA = True, arrB = True, dualmode = True, nbloc = 1, nsamp = 16000, fileName = 'data_test', saveFile = False):\n",
    "    ll = collect_data(v, div, dualmode, nbloc, nsamp, fileName, saveFile )\n",
    "    if not isinstance(arrA, ndarray):\n",
    "        arrA = ll[0]\n",
    "    if not isinstance(arrB, ndarray):\n",
    "        arrB= ll[1]\n",
    "    \n",
    "    complex_num = []\n",
    "    for a,b in zip(arrA,arrB):\n",
    "        complex_num.append(a + 1j*b )\n",
    "    return arrA, arrB, complex_num\n",
    "\n",
    "# add save file argument"
   ]
  },
  {
   "cell_type": "code",
   "execution_count": 24,
   "metadata": {
    "collapsed": false
   },
   "outputs": [
    {
     "data": {
      "text/plain": [
       "array([1, 2, 3, 4])"
      ]
     },
     "execution_count": 24,
     "metadata": {},
     "output_type": "execute_result"
    }
   ],
   "source": [
    "x"
   ]
  },
  {
   "cell_type": "code",
   "execution_count": 25,
   "metadata": {
    "collapsed": false
   },
   "outputs": [
    {
     "data": {
      "text/plain": [
       "array([1, 0, 1, 0])"
      ]
     },
     "execution_count": 25,
     "metadata": {},
     "output_type": "execute_result"
    }
   ],
   "source": [
    "x % 2"
   ]
  },
  {
   "cell_type": "code",
   "execution_count": 26,
   "metadata": {
    "collapsed": true
   },
   "outputs": [],
   "source": [
    "real = np.array(x % 2, dtype = bool)"
   ]
  },
  {
   "cell_type": "code",
   "execution_count": 27,
   "metadata": {
    "collapsed": false
   },
   "outputs": [
    {
     "data": {
      "text/plain": [
       "array([ True, False,  True, False], dtype=bool)"
      ]
     },
     "execution_count": 27,
     "metadata": {},
     "output_type": "execute_result"
    }
   ],
   "source": [
    "real"
   ]
  },
  {
   "cell_type": "code",
   "execution_count": 28,
   "metadata": {
    "collapsed": false
   },
   "outputs": [
    {
     "data": {
      "text/plain": [
       "array([1, 3])"
      ]
     },
     "execution_count": 28,
     "metadata": {},
     "output_type": "execute_result"
    }
   ],
   "source": [
    "x[real]"
   ]
  },
  {
   "cell_type": "code",
   "execution_count": 29,
   "metadata": {
    "collapsed": false
   },
   "outputs": [
    {
     "data": {
      "text/plain": [
       "array([2, 4])"
      ]
     },
     "execution_count": 29,
     "metadata": {},
     "output_type": "execute_result"
    }
   ],
   "source": [
    "x[np.invert(real)]"
   ]
  },
  {
   "cell_type": "code",
   "execution_count": 30,
   "metadata": {
    "collapsed": false
   },
   "outputs": [
    {
     "data": {
      "text/plain": [
       "array([ 1.+2.j,  3.+4.j])"
      ]
     },
     "execution_count": 30,
     "metadata": {},
     "output_type": "execute_result"
    }
   ],
   "source": [
    "x[real] + 1j*x[np.invert(real)]"
   ]
  },
  {
   "cell_type": "code",
   "execution_count": 33,
   "metadata": {
    "collapsed": false
   },
   "outputs": [],
   "source": [
    "split = np.split(x, 2)"
   ]
  },
  {
   "cell_type": "code",
   "execution_count": 34,
   "metadata": {
    "collapsed": false
   },
   "outputs": [
    {
     "data": {
      "text/plain": [
       "[array([1, 2]), array([3, 4])]"
      ]
     },
     "execution_count": 34,
     "metadata": {},
     "output_type": "execute_result"
    }
   ],
   "source": [
    "split"
   ]
  },
  {
   "cell_type": "code",
   "execution_count": 36,
   "metadata": {
    "collapsed": false
   },
   "outputs": [],
   "source": [
    "c = split[0] + 1j* split[1]"
   ]
  },
  {
   "cell_type": "code",
   "execution_count": 46,
   "metadata": {
    "collapsed": true
   },
   "outputs": [],
   "source": [
    "ugradio.pico.capture_data?"
   ]
  },
  {
   "cell_type": "code",
   "execution_count": 37,
   "metadata": {
    "collapsed": false
   },
   "outputs": [
    {
     "data": {
      "text/plain": [
       "array([ 1.+3.j,  2.+4.j])"
      ]
     },
     "execution_count": 37,
     "metadata": {},
     "output_type": "execute_result"
    }
   ],
   "source": [
    "c"
   ]
  },
  {
   "cell_type": "code",
   "execution_count": 39,
   "metadata": {
    "collapsed": false
   },
   "outputs": [
    {
     "data": {
      "text/plain": [
       "array([0, 1, 0, 1, 0, 1, 0, 1])"
      ]
     },
     "execution_count": 39,
     "metadata": {},
     "output_type": "execute_result"
    }
   ],
   "source": [
    "np.arange(0, 2 * 4) % 2"
   ]
  },
  {
   "cell_type": "code",
   "execution_count": 68,
   "metadata": {
    "collapsed": true
   },
   "outputs": [],
   "source": [
    "def make_complex(v, div, arrA = True, arrB = True, dualmode = True, nbloc = 1, nsamp = 16000, fileName = 'data_test', saveFile = False):\n",
    "    ll = ugradio.pico.capture_data(v, divisor = div, dual_mode = dualmode, nsamples = nsamp, nblocks = nbloc)\n",
    "    split = np.split(ll, 2*nbloc)\n",
    "    return split"
   ]
  },
  {
   "cell_type": "code",
   "execution_count": 70,
   "metadata": {
    "collapsed": false
   },
   "outputs": [
    {
     "data": {
      "text/plain": [
       "(2, 16000)"
      ]
     },
     "execution_count": 70,
     "metadata": {},
     "output_type": "execute_result"
    }
   ],
   "source": [
    "np.shape(make_complex('50mV', 2, nbloc = 1))"
   ]
  },
  {
   "cell_type": "code",
   "execution_count": 65,
   "metadata": {
    "collapsed": false
   },
   "outputs": [
    {
     "data": {
      "text/plain": [
       "96000"
      ]
     },
     "execution_count": 65,
     "metadata": {},
     "output_type": "execute_result"
    }
   ],
   "source": [
    "len(ugradio.pico.capture_data('50mV', divisor = 2, nblocks = 3, dual_mode = True))"
   ]
  },
  {
   "cell_type": "code",
   "execution_count": 66,
   "metadata": {
    "collapsed": false
   },
   "outputs": [
    {
     "name": "stdout",
     "output_type": "stream",
     "text": [
      "Saved A port data to good_data_A.txt\n",
      "Saved B port data to good_data_B.txt\n"
     ]
    },
    {
     "data": {
      "text/plain": [
       "[array([ 1792,   768,  -512, ..., -3840, -4096, -3328], dtype=int16),\n",
       " array([-2048,  -768,   256, ...,  4352,  4096,     0], dtype=int16)]"
      ]
     },
     "execution_count": 66,
     "metadata": {},
     "output_type": "execute_result"
    }
   ],
   "source": [
    "collect_data('100mV', 2, saveFile= True, fileName= 'good_data')"
   ]
  },
  {
   "cell_type": "code",
   "execution_count": 67,
   "metadata": {
    "collapsed": false
   },
   "outputs": [
    {
     "name": "stdout",
     "output_type": "stream",
     "text": [
      "Saved A port data to good_data1_A.txt\n",
      "Saved B port data to good_data1_B.txt\n"
     ]
    },
    {
     "data": {
      "text/plain": [
       "[array([6400, 7680, 8960, ..., 3840, 1024,    0], dtype=int16),\n",
       " array([ 3584,  1280,  -768, ..., -7424, -7424, -7168], dtype=int16)]"
      ]
     },
     "execution_count": 67,
     "metadata": {},
     "output_type": "execute_result"
    }
   ],
   "source": [
    "collect_data('50mV', 2, saveFile = True, fileName = 'good_data1')"
   ]
  },
  {
   "cell_type": "code",
   "execution_count": 71,
   "metadata": {
    "collapsed": false
   },
   "outputs": [
    {
     "name": "stdout",
     "output_type": "stream",
     "text": [
      "Saved A port data to 1421_data_A.txt\n",
      "Saved B port data to 1421_data_B.txt\n"
     ]
    },
    {
     "data": {
      "text/plain": [
       "[array([-1792, -3328, -3840, ..., -4352, -4864, -3584], dtype=int16),\n",
       " array([ -768, -2048, -2048, ..., -3840, -4352,     0], dtype=int16)]"
      ]
     },
     "execution_count": 71,
     "metadata": {},
     "output_type": "execute_result"
    }
   ],
   "source": [
    "#1421 \n",
    "\n",
    "collect_data('100mV', 1, saveFile = True, fileName = '1421_data')"
   ]
  },
  {
   "cell_type": "code",
   "execution_count": 72,
   "metadata": {
    "collapsed": true
   },
   "outputs": [],
   "source": [
    "np.savetxt('1421_5blocks' , ugradio.pico.capture_data('100mV', divisor = 1, dual_mode= True, nblocks= 5))"
   ]
  },
  {
   "cell_type": "code",
   "execution_count": 73,
   "metadata": {
    "collapsed": true
   },
   "outputs": [],
   "source": [
    "np.savetxt('notest_1420', ugradio.pico.capture_data('100mV', divisor = 1, dual_mode= True, nblocks= 5))"
   ]
  },
  {
   "cell_type": "code",
   "execution_count": 74,
   "metadata": {
    "collapsed": true
   },
   "outputs": [],
   "source": [
    "np.savetxt('1419_5blocks', ugradio.pico.capture_data('100mV', divisor = 1, dual_mode= True, nblocks= 5))"
   ]
  },
  {
   "cell_type": "code",
   "execution_count": 75,
   "metadata": {
    "collapsed": true
   },
   "outputs": [],
   "source": [
    "np.savetxt('1419_1block', ugradio.pico.capture_data('100mV', divisor = 1, dual_mode= True))"
   ]
  },
  {
   "cell_type": "code",
   "execution_count": null,
   "metadata": {
    "collapsed": true
   },
   "outputs": [],
   "source": []
  }
 ],
 "metadata": {
  "kernelspec": {
   "display_name": "Python 2",
   "language": "python",
   "name": "python2"
  },
  "language_info": {
   "codemirror_mode": {
    "name": "ipython",
    "version": 2
   },
   "file_extension": ".py",
   "mimetype": "text/x-python",
   "name": "python",
   "nbconvert_exporter": "python",
   "pygments_lexer": "ipython2",
   "version": "2.7.6"
  }
 },
 "nbformat": 4,
 "nbformat_minor": 2
}
