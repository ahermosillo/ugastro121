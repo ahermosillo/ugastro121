{
 "cells": [
  {
   "cell_type": "code",
   "execution_count": 1,
   "metadata": {
    "collapsed": false
   },
   "outputs": [
    {
     "name": "stdout",
     "output_type": "stream",
     "text": [
      "Populating the interactive namespace from numpy and matplotlib\n"
     ]
    }
   ],
   "source": [
    "import ugradio\n",
    "import numpy as np\n",
    "import matplotlib.pyplot as plt\n",
    "import glob\n",
    "import lab2\n",
    "\n",
    "%pylab inline"
   ]
  },
  {
   "cell_type": "code",
   "execution_count": 3,
   "metadata": {
    "collapsed": true
   },
   "outputs": [],
   "source": [
    "ugradio.agilent.SynthClient().set_frequency(1.23,'GHz')"
   ]
  },
  {
   "cell_type": "code",
   "execution_count": 4,
   "metadata": {
    "collapsed": false
   },
   "outputs": [
    {
     "data": {
      "text/plain": [
       "(1.23, 'GHz')"
      ]
     },
     "execution_count": 4,
     "metadata": {},
     "output_type": "execute_result"
    }
   ],
   "source": [
    "ugradio.agilent.SynthClient().get_frequency()"
   ]
  },
  {
   "cell_type": "code",
   "execution_count": 5,
   "metadata": {
    "collapsed": false
   },
   "outputs": [
    {
     "name": "stdout",
     "output_type": "stream",
     "text": [
      "Downloading http://maia.usno.navy.mil/ser7/finals2000A.all [Done]\n",
      "after this loop:\n",
      "local now = Sat Feb 24 04:26:50 2018\n",
      "utc now = Sat Feb 24 12:26:50 2018\n",
      "ut unix = 1519475211.0\n",
      "julian_now = 2458174.01865\n",
      "lst_now = 3.81858115504\n",
      "after this loop:\n",
      "local now = Sat Feb 24 04:27:07 2018\n",
      "utc now = Sat Feb 24 12:27:07 2018\n",
      "ut unix = 1519475227.56\n",
      "julian_now = 2458174.01884\n",
      "lst_now = 3.81978916651\n",
      "after this loop:\n",
      "local now = Sat Feb 24 04:27:14 2018\n",
      "utc now = Sat Feb 24 12:27:14 2018\n",
      "ut unix = 1519475234.68\n",
      "julian_now = 2458174.01892\n",
      "lst_now = 3.82030825205\n",
      "after this loop:\n",
      "local now = Sat Feb 24 04:27:21 2018\n",
      "utc now = Sat Feb 24 12:27:21 2018\n",
      "ut unix = 1519475241.75\n",
      "julian_now = 2458174.019\n",
      "lst_now = 3.82082377003\n",
      "after this loop:\n",
      "local now = Sat Feb 24 04:27:28 2018\n",
      "utc now = Sat Feb 24 12:27:28 2018\n",
      "ut unix = 1519475248.84\n",
      "julian_now = 2458174.01908\n",
      "lst_now = 3.82134028259\n",
      "after this loop:\n",
      "local now = Sat Feb 24 04:27:35 2018\n",
      "utc now = Sat Feb 24 12:27:35 2018\n",
      "ut unix = 1519475256.0\n",
      "julian_now = 2458174.01917\n",
      "lst_now = 3.82186272152\n",
      "after this loop:\n",
      "local now = Sat Feb 24 04:27:43 2018\n",
      "utc now = Sat Feb 24 12:27:43 2018\n",
      "ut unix = 1519475263.27\n",
      "julian_now = 2458174.01925\n",
      "lst_now = 3.82239284712\n",
      "after this loop:\n",
      "local now = Sat Feb 24 04:27:50 2018\n",
      "utc now = Sat Feb 24 12:27:50 2018\n",
      "ut unix = 1519475270.38\n",
      "julian_now = 2458174.01933\n",
      "lst_now = 3.82291141337\n",
      "after this loop:\n",
      "local now = Sat Feb 24 04:27:57 2018\n",
      "utc now = Sat Feb 24 12:27:57 2018\n",
      "ut unix = 1519475277.46\n",
      "julian_now = 2458174.01942\n",
      "lst_now = 3.82342782324\n",
      "after this loop:\n",
      "local now = Sat Feb 24 04:28:04 2018\n",
      "utc now = Sat Feb 24 12:28:04 2018\n",
      "ut unix = 1519475284.46\n",
      "julian_now = 2458174.0195\n",
      "lst_now = 3.82393811017\n",
      "after this loop:\n",
      "local now = Sat Feb 24 04:28:11 2018\n",
      "utc now = Sat Feb 24 12:28:11 2018\n",
      "ut unix = 1519475291.53\n",
      "julian_now = 2458174.01958\n",
      "lst_now = 3.82445323502\n",
      "after this loop:\n",
      "local now = Sat Feb 24 04:28:18 2018\n",
      "utc now = Sat Feb 24 12:28:18 2018\n",
      "ut unix = 1519475298.64\n",
      "julian_now = 2458174.01966\n",
      "lst_now = 3.82497220907\n",
      "after this loop:\n",
      "local now = Sat Feb 24 04:28:25 2018\n",
      "utc now = Sat Feb 24 12:28:25 2018\n",
      "ut unix = 1519475305.76\n",
      "julian_now = 2458174.01974\n",
      "lst_now = 3.82549149704\n",
      "after this loop:\n",
      "local now = Sat Feb 24 04:28:32 2018\n",
      "utc now = Sat Feb 24 12:28:32 2018\n",
      "ut unix = 1519475312.77\n",
      "julian_now = 2458174.01982\n",
      "lst_now = 3.82600252917\n",
      "after this loop:\n",
      "local now = Sat Feb 24 04:28:39 2018\n",
      "utc now = Sat Feb 24 12:28:39 2018\n",
      "ut unix = 1519475319.73\n",
      "julian_now = 2458174.0199\n",
      "lst_now = 3.82651037514\n",
      "after this loop:\n",
      "local now = Sat Feb 24 04:28:46 2018\n",
      "utc now = Sat Feb 24 12:28:46 2018\n",
      "ut unix = 1519475326.72\n",
      "julian_now = 2458174.01999\n",
      "lst_now = 3.82701950614\n",
      "after this loop:\n",
      "local now = Sat Feb 24 04:28:53 2018\n",
      "utc now = Sat Feb 24 12:28:53 2018\n",
      "ut unix = 1519475333.84\n",
      "julian_now = 2458174.02007\n",
      "lst_now = 3.82753911684\n",
      "after this loop:\n",
      "local now = Sat Feb 24 04:29:00 2018\n",
      "utc now = Sat Feb 24 12:29:00 2018\n",
      "ut unix = 1519475340.82\n",
      "julian_now = 2458174.02015\n",
      "lst_now = 3.82804798379\n",
      "after this loop:\n",
      "local now = Sat Feb 24 04:29:07 2018\n",
      "utc now = Sat Feb 24 12:29:07 2018\n",
      "ut unix = 1519475347.88\n",
      "julian_now = 2458174.02023\n",
      "lst_now = 3.8285629062\n",
      "after this loop:\n",
      "local now = Sat Feb 24 04:29:15 2018\n",
      "utc now = Sat Feb 24 12:29:15 2018\n",
      "ut unix = 1519475355.02\n",
      "julian_now = 2458174.02031\n",
      "lst_now = 3.82908355841\n"
     ]
    }
   ],
   "source": [
    "for i in range(20):\n",
    "    np.savetxt('galactic_1230_{}.txt'.format(i), ugradio.pico.capture_data('100mV', divisor = 1, dual_mode = True, nblocks=50))\n",
    "    print('after this loop:\\nlocal now = {}\\nutc now = {}\\nut unix = {}\\njulian_now = {}\\nlst_now = {}'.format(ugradio.timing.local_time(),\n",
    "                                                                                                ugradio.timing.utc(), \n",
    "                                                                                                ugradio.timing.unix_time(),\n",
    "                                                                                                ugradio.timing.julian_date(),\n",
    "                                                                                                ugradio.timing.lst()))"
   ]
  },
  {
   "cell_type": "code",
   "execution_count": 6,
   "metadata": {
    "collapsed": true
   },
   "outputs": [],
   "source": [
    "ugradio.agilent.SynthClient().set_frequency(1.229,'GHz')"
   ]
  },
  {
   "cell_type": "code",
   "execution_count": 7,
   "metadata": {
    "collapsed": false
   },
   "outputs": [
    {
     "data": {
      "text/plain": [
       "(1.229, 'GHz')"
      ]
     },
     "execution_count": 7,
     "metadata": {},
     "output_type": "execute_result"
    }
   ],
   "source": [
    "ugradio.agilent.SynthClient().get_frequency()"
   ]
  },
  {
   "cell_type": "code",
   "execution_count": 8,
   "metadata": {
    "collapsed": false
   },
   "outputs": [
    {
     "name": "stdout",
     "output_type": "stream",
     "text": [
      "after this loop:\n",
      "local now = Sat Feb 24 05:15:31 2018\n",
      "utc now = Sat Feb 24 13:15:31 2018\n",
      "ut unix = 1519478131.89\n",
      "julian_now = 2458174.05245\n",
      "lst_now = 4.03157577598\n",
      "after this loop:\n",
      "local now = Sat Feb 24 05:15:39 2018\n",
      "utc now = Sat Feb 24 13:15:39 2018\n",
      "ut unix = 1519478139.03\n",
      "julian_now = 2458174.05254\n",
      "lst_now = 4.03209704723\n",
      "after this loop:\n",
      "local now = Sat Feb 24 05:15:46 2018\n",
      "utc now = Sat Feb 24 13:15:46 2018\n",
      "ut unix = 1519478146.03\n",
      "julian_now = 2458174.05262\n",
      "lst_now = 4.03260740458\n",
      "after this loop:\n",
      "local now = Sat Feb 24 05:15:53 2018\n",
      "utc now = Sat Feb 24 13:15:53 2018\n",
      "ut unix = 1519478153.04\n",
      "julian_now = 2458174.0527\n",
      "lst_now = 4.03311845138\n",
      "after this loop:\n",
      "local now = Sat Feb 24 05:16:00 2018\n",
      "utc now = Sat Feb 24 13:16:00 2018\n",
      "ut unix = 1519478160.03\n",
      "julian_now = 2458174.05278\n",
      "lst_now = 4.03362819848\n",
      "after this loop:\n",
      "local now = Sat Feb 24 05:16:07 2018\n",
      "utc now = Sat Feb 24 13:16:07 2018\n",
      "ut unix = 1519478167.02\n",
      "julian_now = 2458174.05286\n",
      "lst_now = 4.03413792211\n",
      "after this loop:\n",
      "local now = Sat Feb 24 05:16:13 2018\n",
      "utc now = Sat Feb 24 13:16:13 2018\n",
      "ut unix = 1519478173.97\n",
      "julian_now = 2458174.05294\n",
      "lst_now = 4.0346445388\n",
      "after this loop:\n",
      "local now = Sat Feb 24 05:16:20 2018\n",
      "utc now = Sat Feb 24 13:16:20 2018\n",
      "ut unix = 1519478180.95\n",
      "julian_now = 2458174.05302\n",
      "lst_now = 4.03515353484\n",
      "after this loop:\n",
      "local now = Sat Feb 24 05:16:27 2018\n",
      "utc now = Sat Feb 24 13:16:27 2018\n",
      "ut unix = 1519478187.97\n",
      "julian_now = 2458174.0531\n",
      "lst_now = 4.03566540605\n",
      "after this loop:\n",
      "local now = Sat Feb 24 05:16:34 2018\n",
      "utc now = Sat Feb 24 13:16:34 2018\n",
      "ut unix = 1519478194.91\n",
      "julian_now = 2458174.05318\n",
      "lst_now = 4.03617182324\n",
      "after this loop:\n",
      "local now = Sat Feb 24 05:16:41 2018\n",
      "utc now = Sat Feb 24 13:16:41 2018\n",
      "ut unix = 1519478201.94\n",
      "julian_now = 2458174.05326\n",
      "lst_now = 4.0366843399\n",
      "after this loop:\n",
      "local now = Sat Feb 24 05:16:48 2018\n",
      "utc now = Sat Feb 24 13:16:48 2018\n",
      "ut unix = 1519478208.94\n",
      "julian_now = 2458174.05334\n",
      "lst_now = 4.03719495542\n",
      "after this loop:\n",
      "local now = Sat Feb 24 05:16:55 2018\n",
      "utc now = Sat Feb 24 13:16:55 2018\n",
      "ut unix = 1519478215.94\n",
      "julian_now = 2458174.05343\n",
      "lst_now = 4.03770508686\n",
      "after this loop:\n",
      "local now = Sat Feb 24 05:17:02 2018\n",
      "utc now = Sat Feb 24 13:17:02 2018\n",
      "ut unix = 1519478222.93\n",
      "julian_now = 2458174.05351\n",
      "lst_now = 4.03821505107\n",
      "after this loop:\n",
      "local now = Sat Feb 24 05:17:09 2018\n",
      "utc now = Sat Feb 24 13:17:09 2018\n",
      "ut unix = 1519478229.81\n",
      "julian_now = 2458174.05359\n",
      "lst_now = 4.03871687092\n",
      "after this loop:\n",
      "local now = Sat Feb 24 05:17:16 2018\n",
      "utc now = Sat Feb 24 13:17:16 2018\n",
      "ut unix = 1519478236.76\n",
      "julian_now = 2458174.05367\n",
      "lst_now = 4.03922329984\n",
      "after this loop:\n",
      "local now = Sat Feb 24 05:17:23 2018\n",
      "utc now = Sat Feb 24 13:17:23 2018\n",
      "ut unix = 1519478243.76\n",
      "julian_now = 2458174.05375\n",
      "lst_now = 4.03973383028\n",
      "after this loop:\n",
      "local now = Sat Feb 24 05:17:30 2018\n",
      "utc now = Sat Feb 24 13:17:30 2018\n",
      "ut unix = 1519478250.75\n",
      "julian_now = 2458174.05383\n",
      "lst_now = 4.04024343069\n",
      "after this loop:\n",
      "local now = Sat Feb 24 05:17:37 2018\n",
      "utc now = Sat Feb 24 13:17:37 2018\n",
      "ut unix = 1519478257.7\n",
      "julian_now = 2458174.05391\n",
      "lst_now = 4.04075022342\n",
      "after this loop:\n",
      "local now = Sat Feb 24 05:17:44 2018\n",
      "utc now = Sat Feb 24 13:17:44 2018\n",
      "ut unix = 1519478264.71\n",
      "julian_now = 2458174.05399\n",
      "lst_now = 4.04126116166\n"
     ]
    }
   ],
   "source": [
    "for i in range(20):\n",
    "    np.savetxt('galactic_1229_{}.txt'.format(i), ugradio.pico.capture_data('100mV', divisor = 1, dual_mode = True, nblocks=50))\n",
    "    print('after this loop:\\nlocal now = {}\\nutc now = {}\\nut unix = {}\\njulian_now = {}\\nlst_now = {}'.format(ugradio.timing.local_time(),\n",
    "                                                                                                ugradio.timing.utc(), \n",
    "                                                                                                ugradio.timing.unix_time(),\n",
    "                                                                                                ugradio.timing.julian_date(),\n",
    "                                                                                                ugradio.timing.lst()))"
   ]
  },
  {
   "cell_type": "code",
   "execution_count": 9,
   "metadata": {
    "collapsed": true
   },
   "outputs": [],
   "source": [
    "ugradio.agilent.SynthClient().set_frequency(1.231,'GHz')"
   ]
  },
  {
   "cell_type": "code",
   "execution_count": 10,
   "metadata": {
    "collapsed": false
   },
   "outputs": [
    {
     "data": {
      "text/plain": [
       "(1.231, 'GHz')"
      ]
     },
     "execution_count": 10,
     "metadata": {},
     "output_type": "execute_result"
    }
   ],
   "source": [
    "ugradio.agilent.SynthClient().get_frequency()"
   ]
  },
  {
   "cell_type": "code",
   "execution_count": 11,
   "metadata": {
    "collapsed": false
   },
   "outputs": [
    {
     "name": "stdout",
     "output_type": "stream",
     "text": [
      "after this loop:\n",
      "local now = Sat Feb 24 05:24:18 2018\n",
      "utc now = Sat Feb 24 13:24:18 2018\n",
      "ut unix = 1519478658.38\n",
      "julian_now = 2458174.05855\n",
      "lst_now = 4.06996833468\n",
      "after this loop:\n",
      "local now = Sat Feb 24 05:24:25 2018\n",
      "utc now = Sat Feb 24 13:24:25 2018\n",
      "ut unix = 1519478665.28\n",
      "julian_now = 2458174.05863\n",
      "lst_now = 4.07047146596\n",
      "after this loop:\n",
      "local now = Sat Feb 24 05:24:32 2018\n",
      "utc now = Sat Feb 24 13:24:32 2018\n",
      "ut unix = 1519478672.28\n",
      "julian_now = 2458174.05871\n",
      "lst_now = 4.07098203161\n",
      "after this loop:\n",
      "local now = Sat Feb 24 05:24:39 2018\n",
      "utc now = Sat Feb 24 13:24:39 2018\n",
      "ut unix = 1519478679.24\n",
      "julian_now = 2458174.05879\n",
      "lst_now = 4.07148960474\n",
      "after this loop:\n",
      "local now = Sat Feb 24 05:24:46 2018\n",
      "utc now = Sat Feb 24 13:24:46 2018\n",
      "ut unix = 1519478686.17\n",
      "julian_now = 2458174.05887\n",
      "lst_now = 4.07199469583\n",
      "after this loop:\n",
      "local now = Sat Feb 24 05:24:53 2018\n",
      "utc now = Sat Feb 24 13:24:53 2018\n",
      "ut unix = 1519478693.11\n",
      "julian_now = 2458174.05895\n",
      "lst_now = 4.07250060252\n",
      "after this loop:\n",
      "local now = Sat Feb 24 05:25:00 2018\n",
      "utc now = Sat Feb 24 13:25:00 2018\n",
      "ut unix = 1519478700.03\n",
      "julian_now = 2458174.05903\n",
      "lst_now = 4.07300515379\n",
      "after this loop:\n",
      "local now = Sat Feb 24 05:25:06 2018\n",
      "utc now = Sat Feb 24 13:25:06 2018\n",
      "ut unix = 1519478706.9\n",
      "julian_now = 2458174.05911\n",
      "lst_now = 4.07350645434\n",
      "after this loop:\n",
      "local now = Sat Feb 24 05:25:13 2018\n",
      "utc now = Sat Feb 24 13:25:13 2018\n",
      "ut unix = 1519478713.85\n",
      "julian_now = 2458174.05919\n",
      "lst_now = 4.07401309744\n",
      "after this loop:\n",
      "local now = Sat Feb 24 05:25:20 2018\n",
      "utc now = Sat Feb 24 13:25:20 2018\n",
      "ut unix = 1519478720.56\n",
      "julian_now = 2458174.05927\n",
      "lst_now = 4.07450223427\n",
      "after this loop:\n",
      "local now = Sat Feb 24 05:25:27 2018\n",
      "utc now = Sat Feb 24 13:25:27 2018\n",
      "ut unix = 1519478727.59\n",
      "julian_now = 2458174.05935\n",
      "lst_now = 4.07501515286\n",
      "after this loop:\n",
      "local now = Sat Feb 24 05:25:34 2018\n",
      "utc now = Sat Feb 24 13:25:34 2018\n",
      "ut unix = 1519478734.49\n",
      "julian_now = 2458174.05943\n",
      "lst_now = 4.07551833108\n",
      "after this loop:\n",
      "local now = Sat Feb 24 05:25:41 2018\n",
      "utc now = Sat Feb 24 13:25:41 2018\n",
      "ut unix = 1519478741.48\n",
      "julian_now = 2458174.05951\n",
      "lst_now = 4.07602799017\n",
      "after this loop:\n",
      "local now = Sat Feb 24 05:25:48 2018\n",
      "utc now = Sat Feb 24 13:25:48 2018\n",
      "ut unix = 1519478748.51\n",
      "julian_now = 2458174.05959\n",
      "lst_now = 4.07654064472\n",
      "after this loop:\n",
      "local now = Sat Feb 24 05:25:55 2018\n",
      "utc now = Sat Feb 24 13:25:55 2018\n",
      "ut unix = 1519478755.5\n",
      "julian_now = 2458174.05967\n",
      "lst_now = 4.07705076149\n",
      "after this loop:\n",
      "local now = Sat Feb 24 05:26:02 2018\n",
      "utc now = Sat Feb 24 13:26:02 2018\n",
      "ut unix = 1519478762.5\n",
      "julian_now = 2458174.05975\n",
      "lst_now = 4.07756065235\n",
      "after this loop:\n",
      "local now = Sat Feb 24 05:26:09 2018\n",
      "utc now = Sat Feb 24 13:26:09 2018\n",
      "ut unix = 1519478769.41\n",
      "julian_now = 2458174.05983\n",
      "lst_now = 4.07806488089\n",
      "after this loop:\n",
      "local now = Sat Feb 24 05:26:16 2018\n",
      "utc now = Sat Feb 24 13:26:16 2018\n",
      "ut unix = 1519478776.43\n",
      "julian_now = 2458174.05991\n",
      "lst_now = 4.07857683425\n",
      "after this loop:\n",
      "local now = Sat Feb 24 05:26:23 2018\n",
      "utc now = Sat Feb 24 13:26:23 2018\n",
      "ut unix = 1519478783.37\n",
      "julian_now = 2458174.05999\n",
      "lst_now = 4.07908279375\n",
      "after this loop:\n",
      "local now = Sat Feb 24 05:26:30 2018\n",
      "utc now = Sat Feb 24 13:26:30 2018\n",
      "ut unix = 1519478790.45\n",
      "julian_now = 2458174.06007\n",
      "lst_now = 4.07959925643\n"
     ]
    }
   ],
   "source": [
    "for i in range(20):\n",
    "    np.savetxt('galactic_1231_{}.txt'.format(i), ugradio.pico.capture_data('100mV', divisor = 1, dual_mode = True, nblocks=50))\n",
    "    print('after this loop:\\nlocal now = {}\\nutc now = {}\\nut unix = {}\\njulian_now = {}\\nlst_now = {}'.format(ugradio.timing.local_time(),\n",
    "                                                                                                ugradio.timing.utc(), \n",
    "                                                                                                ugradio.timing.unix_time(),\n",
    "                                                                                                ugradio.timing.julian_date(),\n",
    "                                                                                                ugradio.timing.lst()))"
   ]
  },
  {
   "cell_type": "code",
   "execution_count": null,
   "metadata": {
    "collapsed": true
   },
   "outputs": [],
   "source": []
  }
 ],
 "metadata": {
  "kernelspec": {
   "display_name": "Python 2",
   "language": "python",
   "name": "python2"
  },
  "language_info": {
   "codemirror_mode": {
    "name": "ipython",
    "version": 2
   },
   "file_extension": ".py",
   "mimetype": "text/x-python",
   "name": "python",
   "nbconvert_exporter": "python",
   "pygments_lexer": "ipython2",
   "version": "2.7.6"
  }
 },
 "nbformat": 4,
 "nbformat_minor": 1
}
